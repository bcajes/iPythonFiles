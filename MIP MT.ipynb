{
 "metadata": {
  "name": "",
  "signature": "sha256:c63094092a7b93981fff136c27c54fbb54f36d48295fce04cd4c84f63543766d"
 },
 "nbformat": 3,
 "nbformat_minor": 0,
 "worksheets": [
  {
   "cells": [
    {
     "cell_type": "markdown",
     "metadata": {},
     "source": [
      "## Medical Imaging Physics (RAT 6616)"
     ]
    },
    {
     "cell_type": "heading",
     "level": 4,
     "metadata": {},
     "source": [
      "Midterm Spring 2015 due 3/9/2015"
     ]
    },
    {
     "cell_type": "markdown",
     "metadata": {},
     "source": [
      "___"
     ]
    },
    {
     "cell_type": "markdown",
     "metadata": {},
     "source": [
      "1. With respect to their magnetic properties, materials are divided into certain classes. What are these classes? What are the differences between them?\n",
      "\n",
      "    - diamagnetic\n",
      "    - paramagenetic\n",
      "    - how they are effected by (and how they affect) local magnetic fields"
     ]
    },
    {
     "cell_type": "markdown",
     "metadata": {},
     "source": [
      "2. What is the difference between $T_2$ and $T_2^*$? Explain in details."
     ]
    },
    {
     "cell_type": "markdown",
     "metadata": {},
     "source": [
      "3. Neglecting all relaxation processes, the Bloch equations take the form\n",
      "\n",
      "$$\\dot{\\vec{m}} = \\alpha \\vec{m} \\times \\vec{B}$$\n",
      "\n",
      " where $ \\vec{m} $ is the macroscopic magnetization, $\\vec{B}$ is the external magnetic field and $\\alpha$ is a constant. Assuming $B_x = B_y = 0$ and $B_z = B_0$, write these equations in matrix form, find the general solution and apply the initial conditions $m_z = 1$, $m_x = 1$, and $m_y = 0$. Describe the dynamics of the spin in your own words."
     ]
    },
    {
     "cell_type": "markdown",
     "metadata": {},
     "source": [
      "4. Explain in details how 3D volume resolution is obtained in MRI in a modern scanner. Be as explicit as possible."
     ]
    },
    {
     "cell_type": "code",
     "collapsed": false,
     "input": [],
     "language": "python",
     "metadata": {},
     "outputs": []
    }
   ],
   "metadata": {}
  }
 ]
}