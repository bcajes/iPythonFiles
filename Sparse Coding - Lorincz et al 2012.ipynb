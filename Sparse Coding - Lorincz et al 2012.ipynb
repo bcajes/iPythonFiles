{
 "metadata": {
  "name": "",
  "signature": "sha256:ca877b71fea9684a2fa77ac3bc10ea6f7e2491cf210111ab372161493822a091"
 },
 "nbformat": 3,
 "nbformat_minor": 0,
 "worksheets": [
  {
   "cells": [
    {
     "cell_type": "heading",
     "level": 2,
     "metadata": {},
     "source": [
      "Efficient Sparse Coding in Early Sensory Processing: Lessons from Signal Recovery"
     ]
    },
    {
     "cell_type": "markdown",
     "metadata": {},
     "source": [
      "Lo \u0308rincz A, Palotai Z, Szirtes G (2012) Efficient Sparse Coding in Early Sensory Processing: Lessons from Signal Recovery. PLoS Comput Biol 8(3): http://www.ncbi.nlm.nih.gov/pmc/articles/PMC3291527/pdf/pcbi.1002372.pdf"
     ]
    },
    {
     "cell_type": "heading",
     "level": 4,
     "metadata": {},
     "source": [
      "Abstract"
     ]
    },
    {
     "cell_type": "markdown",
     "metadata": {},
     "source": [
      "Sensory representations are not only sparse, but often *overcomplete: coding units significantly outnumber the input units*. For models of neural coding this overcompleteness poses a computational challenge for shaping the signal processing channels as well as for using the large and sparse representations in an efficient way. We argue that *higher level overcompleteness becomes computationally tractable by imposing sparsity on synaptic activity* and we also show that such *structural sparsity can be facilitated by statistics based decomposition of the stimuli into typical and atypical parts prior to sparse coding*. Typical parts represent large-scale correlations, thus they can be significantly compressed. Atypical parts, on the other hand, represent local features and are the subjects of actual sparse coding. When applied on natural images, our decomposition based sparse coding model can efficiently form overcomplete codes and both center-surround and oriented filters are obtained similar to those observed in the retina and the primary visual cortex, respectively. Therefore we hypothesize that the proposed computational architecture can be seen as a coherent functional model of the first stages of sensory coding in early vision."
     ]
    },
    {
     "cell_type": "heading",
     "level": 4,
     "metadata": {},
     "source": [
      "Introduction"
     ]
    },
    {
     "cell_type": "markdown",
     "metadata": {},
     "source": [
      "- Nature of neuronal representations:\n",
      "    - efficent coding theory\n",
      "        - Barlow (1961) Possible principles underlying the transformation of sensory messages. http://mplab.ucsd.edu/~marni/Igert/Barlow_1961.pdf\n",
      "        - Atick (1992) Could information theory provide an ecological theory of sensory processing? http://people.cs.umass.edu/~elm/Teaching/Docs/ecological.pdf\n",
      "    - emphasis on redundancy reduction\n",
      "        - Dong, Atick (1995) Temporal decorrelation: a theory of lagged and nolagged responses in the lateral geniculate nucleus. http://citeseerx.ist.psu.edu/viewdoc/download?doi=10.1.1.47.808&rep=rep1&type=pdf\n",
      "        - Bell, Sejnowski (1995) An information-maximization approach to blind separation and blind deconvolution.\n",
      "    - emphasis on sparsity constraint (Sparse coding) http://www.jasoncantarella.com/downloads/infomax.pdf\n",
      "        - [Olshausen, Field ](Sparse%20Coding%20-%20Olshausen,%20Field.ipynb)(1996) Emergence of simple-cell receptive field properties by learning a sparse code for natural images. http://www.cs.ubc.ca/~little/cpsc425/olshausen_field_nature_1996.pdf \n",
      "        - Doi, Balcan, Lewicki (2007) robust coding over noisy overcomplete channels http://citeseerx.ist.psu.edu/viewdoc/download?doi=10.1.1.72.6627&rep=rep1&type=pdf\n",
      "    - these can account for many, but not all of the relevant features of early sensory processing\n",
      "        - Graham, Chandler, Field (2006) Can the theory of \"whitening\" explain the center-surround properties of retinal ganglion cell receptive fields? http://homepage.univie.ac.at/daniel.graham/Graham_Vision_Research06.pdf\n",
      "        - Ringach (2002) Spatial structure and symmetry of simple-cell receptive fields in macaque primary visual cortex http://www.ringachlab.net/lab/Publications_files/455.pdf"
     ]
    },
    {
     "cell_type": "markdown",
     "metadata": {},
     "source": []
    },
    {
     "cell_type": "code",
     "collapsed": false,
     "input": [],
     "language": "python",
     "metadata": {},
     "outputs": []
    }
   ],
   "metadata": {}
  }
 ]
}