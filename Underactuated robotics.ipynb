{
 "metadata": {
  "name": "",
  "signature": "sha256:0b9cc02db045636c1a00d101eb216e2b35c4c051b0d89b4550adfcbffdbcb152"
 },
 "nbformat": 3,
 "nbformat_minor": 0,
 "worksheets": [
  {
   "cells": [
    {
     "cell_type": "markdown",
     "metadata": {},
     "source": [
      "- Yale Grab Lab:\n",
      "    - Open Hand Project: http://www.eng.yale.edu/grablab/openhand/index.html [Hackaday](http://hackaday.com/2015/02/25/openhand-combines-3d-printing-with-urethane-casting/)\n",
      "    - Open Hand [Article](http://www.eng.yale.edu/grablab/pubs/Ma_ICRA2013.pdf)\n",
      "    - Grasping Data set\n",
      "\n",
      "- Open Robot Hardware [Site](http://www.openrobothardware.org/linkedprojects/)\n",
      "\n",
      "- Open Source Humanoid Robot? [Link](http://www.romela.org/main/DARwIn_OP:_Open_Platform_Humanoid_Robot_for_Research_and_Education)\n",
      "\n",
      "- RoMeLa Lab {link](http://www.romela.org/main/Robotics_and_Mechanisms_Laboratory)\n",
      "\n",
      "- Robotics Courseware [Link](http://www.roboticscourseware.org/courses.html)\n",
      "\n",
      "- Robotics Courseware Biblio [Link](http://www.eng.yale.edu/grablab/roboticscourseware//bibliography1.html)"
     ]
    }
   ],
   "metadata": {}
  }
 ]
}