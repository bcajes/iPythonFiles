{
 "metadata": {
  "name": "",
  "signature": "sha256:e6ade883ca8331a118f3e278c5db5e0464f267cc9e18a6a7670696504a7d3468"
 },
 "nbformat": 3,
 "nbformat_minor": 0,
 "worksheets": [
  {
   "cells": [
    {
     "cell_type": "markdown",
     "metadata": {},
     "source": [
      "[Olshausen Fields](Sparse Coding - Olshausen, Field.ipynb)\n",
      "[Lorincz](Sparse Coding - Lorincz et al 2012.ipynb)\n",
      "\n",
      "**Compressive Sensing and sparse recovery** [Justin Romberg](http://users.ece.gatech.edu/justin/Justin_Romberg.html) [Playlist](https://www.youtube.com/playlist?list=PL1p7gRAn3_YgW8mYX0QakZ-l1UZWItTvv) \n",
      "\n",
      "1. Basis expansion fundamentals\n",
      "2. overview of sparsity theory and applications\n",
      "3. sparse approximation algorithms\n",
      "4. uncertainty principles for the union of bases\n",
      "5. overview of compressive sensing\n",
      "6. L1 minimization duality and optimality\n",
      "7. L1 recovery with the *restricted isometry* property\n",
      "8. stability of the L1 recovery\n",
      "9. the RIP for Gaussian matrices\n",
      "10. low rank recovery for bilinear problems\n",
      "11. dynamic L1 recovery\n",
      "\n",
      "----^Notes for this^----\n",
      "- ** Tsinghua Course on Sparse Approximation** [page](http://users.ece.gatech.edu/~justin/Tsinghua-Oct13/)      \n",
      "    1. Basis of Expansion fundamentals\n",
      "    2. Overview of Sparsity theory and applications\n",
      "    3. Sparse approximation algorithms\n",
      "    4. Uncertainty principles for unions of bases\n",
      "    5. Overview of Compressive sensing\n",
      "    6. L1 minimization: duality and optimality\n",
      "    7. L1 recovery with the restricted isometry property\n",
      "    8. stability of L1 recovery\n",
      "    9. The RIP for Gaussian matrices\n",
      "    10. Low rank recovery and bilinear problems\n",
      "    11. Dynamic L1 recovery \n"
     ]
    },
    {
     "cell_type": "code",
     "collapsed": false,
     "input": [],
     "language": "python",
     "metadata": {},
     "outputs": []
    }
   ],
   "metadata": {}
  }
 ]
}