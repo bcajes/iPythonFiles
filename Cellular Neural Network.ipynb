{
 "cells": [
  {
   "cell_type": "markdown",
   "metadata": {},
   "source": [
    "- **can also be *Cellular Nonlinear Network* when used in the context of *coupled dynamical systems***\n",
    "- **CNN defined by two mathematical constructs:**\n",
    "    1. a spatially discrete collection of continuous nonlinear dynamical systems called *cells*, where *information* can be encrypted into each cell via three independent variables called *input*, *threshold*, and *initial state*\n",
    "    2. A *coupling law* relating one of more relevant variables of each cell $C_{ij}$ to all neighbor cells $C_{kl}$ located within a prescribed sphere of inflience $S{ij}(r)$ of radius $r$, centered at $C_{ij}$"
   ]
  },
  {
   "cell_type": "markdown",
   "metadata": {},
   "source": [
    "- **Standard CNN equation**\n",
    "    $$ \\dot{x}_{ij} = -x_{ij} + \\sum_{kl \\in S_{ij} (r)} a_{kl} y_{kl} + \\sum_{kl \\in S_{ij} (r)} b_{kl} u_{kl} + z_{ij}  $$ \n",
    "    $$ y_{ij} = f(x_{ij}) = \\frac{1}{2} \\bigg( | x_{ij} + 1 | - | x_{ij} -1 | \\bigg) $$\n",
    "    $$ i = 1, 2, \\dots, M, \\;\\;\\; j = 1, 2, \\dots, N$$"
   ]
  },
  {
   "cell_type": "markdown",
   "metadata": {
    "collapsed": true
   },
   "source": [
    "## CNN: A paradigm for Complexity\n",
    "1. What is a CNN?\n",
    "2. Part I: Standard CNNs\n",
    "    1. Standard CNNs are uniquely specified by CNN genes\n",
    "    2. Oscillations and chaos from standard CNNs\n",
    "    3. Complete stability criteria for standard CNNs\n",
    "    3. Bistable criterion\n",
    "    4. Coding the CNN gene\n",
    "        - edge detection CNN\n",
    "        - corner detection CNN\n",
    "    5. A gallery of basic CNN genes\n",
    "    6. Does there exist a CNN gene for solving Minsky's global connectivity problem?\n",
    "    7. Decoding the CNN gene\n",
    "        - examples of input-output CNN operators\n",
    "        - Uncoupled CNN genes\n",
    "        - Boolean CNN genes and truth tables\n",
    "    8. What task can an uncoupled Boolean CNN gene perform?\n",
    "    9. Bifurcation of CNN genes\n",
    "    10. The game-of-life CNN gene\n",
    "    11. The CNN universal machine\n",
    "    12. generalized cellular automata\n",
    "    13. a glimpse at some real-world CNN applications\n",
    "3. Part II: Autonomous CNNs\n",
    "    1. pattern formation in standard CNNs\n",
    "        - characterization of stable equilibria\n",
    "        - The dynamics of pattern foration\n",
    "        - CNN pattern formation in biology and physics\n",
    "    2. pattern formation in reaction-diffusion CNNs\n",
    "    3. nonlinear waves in reaction-diffusion CNNs\n",
    "    4. simulating nonlinear PDEs via autonomous CNNs\n",
    "4. Part III: Local Activity: The Genesis of Complexity\n",
    "    1. transistors and local activity: what do they have in common?\n",
    "    2. nonlinear circuit models for reaction-diffusion CNNs\n",
    "    3. What is local activity?\n",
    "        - cell equilibrium points\n",
    "        - local state equations and local power flows\n",
    "        - local activity in reaction-diffusion CNN cells\n",
    "    4. Testing for local activity\n",
    "        - testing one-port CNN cells for local activity\n",
    "        - testing two-port CNN cells for local activity\n",
    "    5. Why is local activity necessary for pattern formation?\n",
    "    6. How to choose locally active CNN parameters?\n",
    "    7. Local activity and stability are different concepts\n",
    "    8. The local activity dogma"
   ]
  }
 ],
 "metadata": {
  "kernelspec": {
   "display_name": "Python 2",
   "language": "python",
   "name": "python2"
  },
  "language_info": {
   "codemirror_mode": {
    "name": "ipython",
    "version": 2
   },
   "file_extension": ".py",
   "mimetype": "text/x-python",
   "name": "python",
   "nbconvert_exporter": "python",
   "pygments_lexer": "ipython2",
   "version": "2.7.9"
  }
 },
 "nbformat": 4,
 "nbformat_minor": 0
}
