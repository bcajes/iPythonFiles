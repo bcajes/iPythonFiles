{
 "metadata": {
  "name": "",
  "signature": "sha256:fb237c4df75b4f932b1979d0e74627c5dfe6341f90981e45d83eaa7467e1989c"
 },
 "nbformat": 3,
 "nbformat_minor": 0,
 "worksheets": [
  {
   "cells": [
    {
     "cell_type": "markdown",
     "metadata": {},
     "source": [
      "**Introduction to Algorithms** [MIT OpenCourseware](http://ocw.mit.edu/courses/electrical-engineering-and-computer-science/6-006-introduction-to-algorithms-fall-2011/)\n",
      "\n",
      "1. Introduction\n",
      "    - algorithmic thinking, peak finding\n",
      "    - models of computation, Python cost model, document distance\n",
      "2. Sorting and Trees\n",
      "    - Insertion sort, merge sort\n",
      "    - Heaps and heap sort\n",
      "    - Binary search trees, BST sort\n",
      "    - AVL trees, AVL sort\n",
      "    - Counting sort, radix sor, lower bouns for sorting and searching\n",
      "3. Hashing\n",
      "    - Hashing with chaining\n",
      "    - Table doubling, Karp-Rabin\n",
      "    - Open addressing, cryptographic hashing\n",
      "4. Numerics\n",
      "    - Integer arithmetic, Karatsuba multiplication\n",
      "    - Square roots, Newton's method\n",
      "5. Graphs\n",
      "    - Breadth-first search (BFS)\n",
      "    - Depth-first search (DFS), topological sorting\n",
      "6. Shortest Paths\n",
      "    - Single-source shortest paths problem\n",
      "    - Dijkstra\n",
      "    - Bellman-Ford\n",
      "    - Speeding up Dijkstra\n",
      "7. Dynamic Programming\n",
      "    - Memoization, subproblems, quessing, bottom-up; Fibonacci, shortest path\n",
      "    - Parent pointers; text justification, perfect-information blackjack\n",
      "    - string subproblems, pseudopolynomial time; parenthesization, edit distance, knapsack\n",
      "    - two kinds of guessing; piano/guitar fingering, Tetris training, Super Mario Bros. \n",
      "8. Advanced Topics\n",
      "    - Computational complexity\n",
      "    - algorithms research topics"
     ]
    },
    {
     "cell_type": "markdown",
     "metadata": {},
     "source": [
      "**Nature-Inspired Metaheuristic Algorithms** (Xin-She Yang) [Google Scholar](https://scholar.google.co.uk/citations?user=fA6aTlAAAAAJ) \n",
      "\n",
      "1. Introduction\n",
      "2. Random Walks and Levy Flights\n",
      "3. Simulated Annealing\n",
      "4. How to Deal with Constraints\n",
      "5. Genetic Algorithms\n",
      "6. Differential Evolution\n",
      "7. Ant and bee Algorithms\n",
      "8. Swarm Optimization\n",
      "9. Harmony Search\n",
      "10. Firefly Algorithm\n",
      "11. Bat Algorithm\n",
      "12. Cuckoo Search \n",
      "13. ANN and Support Vector Machine\n",
      "14. Metaheuristics - A Unified Approach"
     ]
    },
    {
     "cell_type": "markdown",
     "metadata": {},
     "source": [
      "- **Algorithmics**\n",
      "    - Introduction\n",
      "        - Data Objects, Data Structures, Complex Data Structures\n",
      "    - Algorithm Analysis\n",
      "        - The big O\n",
      "        - Correctness\n",
      "    - Algorithm Design and Strategies\n",
      "        - Brute Force, Depth-First, Breadth-First, DFID, Best-first, Greedy, Divide and Conquer, Dynamic Programming, Branch and Bound\n",
      "    - Simple Data Structures\n",
      "        - List, Stack, Queue, Tree, Tree traversal\n",
      "    - Sorting\n",
      "        - Selection Sort, Insertion Sort, Shellsort, MergeSort, QuickSort, Bucket Sort, Radix sort, External sorting\n",
      "    - Searching\n",
      "        - Sequential Search, Handling Failure, Binary Search, Binary Tree Search,\n",
      "    - Advanced Tree Structures\n",
      "        - AVL Trees, Retaining Balance, Single Rotation, Double Rotation\n",
      "        - Splay Trees, Red-black Trees, B-trees\n",
      "    - Hash tables\n",
      "        - Terminology, Hash table size, Hash function collision resolution, Separate chaining, Open Addressing, Re-hashing\n",
      "    - Priority Queues (Heaps)\n",
      "        - Terminology, Simple implementations, Binary heaps, Heap sort\n",
      "    - Graphs\n",
      "        - Terminology, Adjacency Matrix and List, Connectivity, Breadth vs Depth first search, Topological sort, Shortest path algorithms, Unweighted graphs, Breadth first search, Weighted Graphs, Minimum Spanning Tree, Prim's algorithm, Biconnectivity, Articulation points\n",
      "    - Geometric algorithms\n",
      "        - Convex hull, \u2026"
     ]
    },
    {
     "cell_type": "code",
     "collapsed": false,
     "input": [],
     "language": "python",
     "metadata": {},
     "outputs": []
    }
   ],
   "metadata": {}
  }
 ]
}