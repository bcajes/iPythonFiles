{
 "metadata": {
  "name": "",
  "signature": "sha256:5e45096f09d5a0cae5be40d5371c104d360ea5ba32320fe59fa16bebcdb0afdb"
 },
 "nbformat": 3,
 "nbformat_minor": 0,
 "worksheets": [
  {
   "cells": [
    {
     "cell_type": "heading",
     "level": 2,
     "metadata": {},
     "source": [
      "Leslie Valliant [Video](https://www.youtube.com/watch?v=FHP2K-xdHsM&list=PL513vUSBNcuH7AS1az0JgCMjdjMbOZtIy&index=1) [Slides PDF](http://simons.berkeley.edu/sites/default/files/docs/393/valiantleslie.pdf)"
     ]
    },
    {
     "cell_type": "markdown",
     "metadata": {},
     "source": [
      "- *Advice for a Young Investigator* by Ramon y Cajal\n",
      "    - **Chapter 5: Diseases of the Will**\n",
      "        - Characterizes people he did not like as\n",
      "            - Contemplators\n",
      "            - Bibliophiles and polyglots\n",
      "            - Megalomaniacs\n",
      "            - Instrument addicts\n",
      "            - Misfits\n",
      "            - Theorists\n",
      "        - *\u201cLet us emphasize again this obvious conclusion: **a scholar\u2019s positive contribution is measured by the sum of the original data that he contributes**. Hypotheses come and go but data remain. **Theories desert us, while data defend us**. They are our true resources, our real estate, and our best pedigree. In the eternal shifting of things, only they will save us from the ravages of time and from the forgetfulness or injustice of men. To risk everything on the success of one idea is to forget that every fifteen or twenty years theories are replaced or revised. So many apparently conclusive theories in physics, chemistry, geology, and biology have collapsed in the last few decades! On the other hand, the well-established facts of anatomy and physiology and of chemistry and geology, and the laws and equations of astronomy and physics remain\u2014immutable and defying criticism.\u201d*\n",
      "- **Computation and the Brain**\n",
      "    - *\u201cWe may compare a man in the process of computing a real number to a machine which is only capable of a finite number of conditions ... .\u201d* Turing (1936).\n",
      "    - *\u201cIt is easily shown ... that every net ...can compute only such numbers as can a Turing machine; that each of the latter numbers can be computed by such a net ... . This is of interest as affording psychological justification of the Turing definition of computability ... .\u201d* McCulloch and Pitts (1943).\n",
      "    - today if you go to a lecture on computational neuroscience in vision, the most frequently sighted perspective comes from David Marr's (1982) description of what you have to do\n",
      "         1.  Computational theory: What is the goal of the computation, why is it appropriate, and what is the logic of the strategy by which it can be carried out?\n",
      "         2. Representation and algorithm: How can this computational theory be implemented? In particular, what is the representation for the input and output, and what is the algorithm for the transformation?\n",
      "         3. Hardware implementation: How can the representation and algorithm be realized physically?    \n",
      "    - Marr: Theories of Cerebellum (1969), Cortex (1970), Hippocampus (1971).\n",
      "    - Marr (1973): \u201cI do not expect to write many more papers in theoretical neurophysiology \u2013 at least not for a long time: but ... I shall be very surprised if my 1969 or 1971 papers turn out to be very wrong.\"\n",
      "    - Marr (1975): \u201cWith problems of biological information processing there has been almost no experience, and one's intuition is at best untrustworthy. It may even be that biological information processing admits of no general theories except ones so unspecific as to have only descriptive, and no predictive powers.\u201d\n",
      "- **Was this wrong? Should we update it?**\n",
      "    - In the context of modern computer science\n",
      "        1.  Computational theory: What is the goal of the computation, why is it appropriate, and what is the logic of the strategy by which it can be carried out?\n",
      "        2. Representation and algorithm: How can this computational theory be implemented? In particular, what is the representation for the input and output, and what is the algorithm for the transformation?\n",
      "        3. Hardware implementation: How can the representation and algorithm be realized physically?    \n",
      "        4. Marr+; Model of computation with costs + explanations of quantitatively challenging tasks \n",
      "- **What does this look like? (with increasing difficulty as you go down)**\n",
      "    1. Communication of an *n*-bit sequence (information theory)\n",
      "    2. Communication of an *n*-argument function (computational complexity)\n",
      "    3. Inductive learning of an *n*-argument function (learning from examples; deep learning)\n",
      "    4. Darwinian evolution of an *n*-argument function (extra darwinian constraints included; random jumble of neurons should do something useful)\n",
      "- \"In computer science we are studying things very relevant to biology\"\n",
      "    - Valiant, 2014, *Probably Approximately Correct*\n",
      "- Hardest part of neuroscience: trying to figure out what the brain is trying to do. \n",
      "- **The Brain is Communication-challenged**\n",
      "    - each neuron connected to a small-fraction of the others, and the influences of many connections is small\n"
     ]
    },
    {
     "cell_type": "code",
     "collapsed": false,
     "input": [],
     "language": "python",
     "metadata": {},
     "outputs": []
    }
   ],
   "metadata": {}
  }
 ]
}