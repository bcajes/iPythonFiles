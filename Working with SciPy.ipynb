{
 "metadata": {
  "name": "",
  "signature": "sha256:72e16d34989ce25e875d9aa15f4e20cda3e933d210a76cec7b8c102e0ca2db96"
 },
 "nbformat": 3,
 "nbformat_minor": 0,
 "worksheets": [
  {
   "cells": [
    {
     "cell_type": "heading",
     "level": 1,
     "metadata": {},
     "source": [
      "SciPy - Library of scientific algorithms for Python"
     ]
    },
    {
     "cell_type": "markdown",
     "metadata": {},
     "source": [
      "Taken from https://wakari.io/nb/url///wakari.io/static/notebooks/Lecture_3_Scipy.ipynb\n",
      "\n",
      "J.R. Johansson (robert@riken.jp) http://dml.riken.jp/~rob/\n",
      "\n",
      "The latest version of this IPython notebook lecture is available at http://github.com/jrjohansson/scientific-python-lectures.\n",
      "\n",
      "The other notebooks in this lecture series are indexed at http://jrjohansson.github.com."
     ]
    },
    {
     "cell_type": "code",
     "collapsed": false,
     "input": [
      "# what is this line all about? Answer in Lecture 4\n",
      "\n",
      "%pylab inline\n",
      "from IPython.display import Image"
     ],
     "language": "python",
     "metadata": {},
     "outputs": [
      {
       "output_type": "stream",
       "stream": "stdout",
       "text": [
        "Populating the interactive namespace from numpy and matplotlib\n"
       ]
      }
     ],
     "prompt_number": 13
    },
    {
     "cell_type": "heading",
     "level": 2,
     "metadata": {},
     "source": [
      "Introduction"
     ]
    },
    {
     "cell_type": "markdown",
     "metadata": {},
     "source": [
      "The SciPy framework builds on top of the low-level NumPy framwork for multidimensional arrays, and provides a large number of higher-level scientific algorithms. Some of the topics that SciPy covers are:\n",
      "\n",
      "- Special functions (scipy.special)\n",
      "- Integration (scipy.integrate)\n",
      "- Optimization (scipy.optimize)\n",
      "- Interpolation (scipy.interpolate)\n",
      "- Fourier Transforms (scipy.fftpack)\n",
      "- Signal Processing (scipy.signal)\n",
      "- Linear Algebra (scipy.linalg)\n",
      "- Sparse Eigenvalue Problems (scipy.sparse)\n",
      "- Statistics (scipy.stats)\n",
      "- Multi-dimensional image processing (scipy.ndimage)\n",
      "- File IO (scipy.io)\n",
      "\n",
      "Each of these submodules provides a number of functions and classes that can be used to solve problems in their respective topics.\n",
      "\n",
      "In this lecture we will look at how to use some of these subpackages.\n",
      "\n",
      "To access the SciPy package in a Python program, we start by importing everything from the scipy module."
     ]
    },
    {
     "cell_type": "code",
     "collapsed": false,
     "input": [
      "from scipy import *"
     ],
     "language": "python",
     "metadata": {},
     "outputs": [],
     "prompt_number": 2
    },
    {
     "cell_type": "markdown",
     "metadata": {},
     "source": [
      "If we only need to use part of the SciPy framework we can selectively include only those modules we are interested in. For example, to include the linear algebra package under the name la, we can do."
     ]
    },
    {
     "cell_type": "code",
     "collapsed": false,
     "input": [
      "import scipy.linalg as la"
     ],
     "language": "python",
     "metadata": {},
     "outputs": [],
     "prompt_number": 3
    },
    {
     "cell_type": "heading",
     "level": 2,
     "metadata": {},
     "source": [
      "Special functions"
     ]
    },
    {
     "cell_type": "markdown",
     "metadata": {},
     "source": [
      "A large number of mathematical special functions are important for many computational physics problems. SciPy provides implementations of a very extensive set of simple functions. For details, see the list of functions in the reference documentation at http://docs.scipy.org/doc/scipy/reference/special.html#module-scipy.special."
     ]
    },
    {
     "cell_type": "code",
     "collapsed": false,
     "input": [
      "#\n",
      "# The scipy.special module includes a large number of Bessel-functions\n",
      "# Here we will use the functions jn and yn, which are the Bessel functions \n",
      "# of the first and second kind and real-valued order. We also include the \n",
      "# function jn_zeros and yn_zeros that gives the zeres of the functions jn\n",
      "# and yn.\n",
      "#\n",
      "\n",
      "from scipy.special import jn, yn, jn_zeros, yn_zeros"
     ],
     "language": "python",
     "metadata": {},
     "outputs": [],
     "prompt_number": 14
    },
    {
     "cell_type": "markdown",
     "metadata": {},
     "source": [
      "Bessel functions http://en.wikipedia.org/wiki/Bessel_function"
     ]
    },
    {
     "cell_type": "code",
     "collapsed": false,
     "input": [
      "n = 0 # order\n",
      "x = 0.0\n",
      "\n",
      "# Bessel function of the first kind\n",
      "print \"J_%d(%f)=%f\" %(n, x, jn(n,x))\n",
      "\n",
      "x = 1.0\n",
      "# Bessel functions of the second kind\n",
      "print \"Y_%d(%f) = %f\" %(n,x,yn(n,x))"
     ],
     "language": "python",
     "metadata": {},
     "outputs": [
      {
       "output_type": "stream",
       "stream": "stdout",
       "text": [
        "J_0(0.000000)=1.000000\n",
        "Y_0(1.000000) = 0.088257\n"
       ]
      }
     ],
     "prompt_number": 10
    },
    {
     "cell_type": "code",
     "collapsed": false,
     "input": [
      "x = linspace(0,10,100)\n",
      "\n",
      "fig, ax = subplots()\n",
      "for n in range(4):\n",
      "    ax.plot(x,jn(n,x),label=r\"$J_%d(x)$\" % n)\n",
      "ax.legend()"
     ],
     "language": "python",
     "metadata": {},
     "outputs": [
      {
       "metadata": {},
       "output_type": "pyout",
       "prompt_number": 17,
       "text": [
        "<matplotlib.legend.Legend at 0x106a87f50>"
       ]
      },
      {
       "metadata": {},
       "output_type": "display_data",
       "png": "[encoded data removed]",
       "text": [
        "<matplotlib.figure.Figure at 0x10667ebd0>"
       ]
      }
     ],
     "prompt_number": 17
    },
    {
     "cell_type": "code",
     "collapsed": false,
     "input": [
      "# zeros of Bessel functions\n",
      "\n",
      "n = 0 # order\n",
      "m = 4 # number of roots to compute\n",
      "jn_zeros(n,m)"
     ],
     "language": "python",
     "metadata": {},
     "outputs": [
      {
       "metadata": {},
       "output_type": "pyout",
       "prompt_number": 21,
       "text": [
        "array([  2.40482556,   5.52007811,   8.65372791,  11.79153444])"
       ]
      }
     ],
     "prompt_number": 21
    },
    {
     "cell_type": "heading",
     "level": 2,
     "metadata": {},
     "source": [
      "Integration"
     ]
    },
    {
     "cell_type": "heading",
     "level": 3,
     "metadata": {},
     "source": [
      "Numerical integration: quadrature"
     ]
    },
    {
     "cell_type": "markdown",
     "metadata": {},
     "source": [
      "Numerical evaluation of a function of the type $ \\int_a^b f(x) dx$ is called *numerical quadrature*. SciPy provides a series of functions for different kind of quadrature, for example the quad, dblquad and tplquad for single, double, and triple integrals, respectively."
     ]
    },
    {
     "cell_type": "code",
     "collapsed": false,
     "input": [
      "from scipy.integrate import quad, dblquad, tplquad"
     ],
     "language": "python",
     "metadata": {},
     "outputs": [],
     "prompt_number": 23
    },
    {
     "cell_type": "markdown",
     "metadata": {},
     "source": [
      "The quad functions takes a large number of optional arguments, which can be used to fine-tune the behavior of the function (try help(quad) for details).\n",
      "\n",
      "The basic usage is as follows:"
     ]
    },
    {
     "cell_type": "code",
     "collapsed": false,
     "input": [
      "help(quad)"
     ],
     "language": "python",
     "metadata": {},
     "outputs": [
      {
       "output_type": "stream",
       "stream": "stdout",
       "text": [
        "Help on function quad in module scipy.integrate.quadpack:\n",
        "\n",
        "quad(func, a, b, args=(), full_output=0, epsabs=1.49e-08, epsrel=1.49e-08, limit=50, points=None, weight=None, wvar=None, wopts=None, maxp1=50, limlst=50)\n",
        "    Compute a definite integral.\n",
        "    \n",
        "    Integrate func from `a` to `b` (possibly infinite interval) using a\n",
        "    technique from the Fortran library QUADPACK.\n",
        "    \n",
        "    Parameters\n",
        "    ----------\n",
        "    func : function\n",
        "        A Python function or method to integrate.  If `func` takes many\n",
        "        arguments, it is integrated along the axis corresponding to the\n",
        "        first argument.\n",
        "    a : float\n",
        "        Lower limit of integration (use -numpy.inf for -infinity).\n",
        "    b : float\n",
        "        Upper limit of integration (use numpy.inf for +infinity).\n",
        "    args : tuple, optional\n",
        "        Extra arguments to pass to `func`.\n",
        "    full_output : int, optional\n",
        "        Non-zero to return a dictionary of integration information.\n",
        "        If non-zero, warning messages are also suppressed and the\n",
        "        message is appended to the output tuple.\n",
        "    \n",
        "    Returns\n",
        "    -------\n",
        "    y : float\n",
        "        The integral of func from `a` to `b`.\n",
        "    abserr : float\n",
        "        An estimate of the absolute error in the result.\n",
        "    infodict : dict\n",
        "        A dictionary containing additional information.\n",
        "        Run scipy.integrate.quad_explain() for more information.\n",
        "    message :\n",
        "        A convergence message.\n",
        "    explain :\n",
        "        Appended only with 'cos' or 'sin' weighting and infinite\n",
        "        integration limits, it contains an explanation of the codes in\n",
        "        infodict['ierlst']\n",
        "    \n",
        "    Other Parameters\n",
        "    ----------------\n",
        "    epsabs : float or int, optional\n",
        "        Absolute error tolerance.\n",
        "    epsrel : float or int, optional\n",
        "        Relative error tolerance.\n",
        "    limit : float or int, optional\n",
        "        An upper bound on the number of subintervals used in the adaptive\n",
        "        algorithm.\n",
        "    points : (sequence of floats,ints), optional\n",
        "        A sequence of break points in the bounded integration interval\n",
        "        where local difficulties of the integrand may occur (e.g.,\n",
        "        singularities, discontinuities). The sequence does not have\n",
        "        to be sorted.\n",
        "    weight : float or int, optional\n",
        "        String indicating weighting function. Full explanation for this\n",
        "        and the remaining arguments can be found below.\n",
        "    wvar : optional\n",
        "        Variables for use with weighting functions.\n",
        "    wopts : optional\n",
        "        Optional input for reusing Chebyshev moments.\n",
        "    maxp1 : float or int, optional\n",
        "        An upper bound on the number of Chebyshev moments.\n",
        "    limlst : int, optional\n",
        "        Upper bound on the number of cycles (>=3) for use with a sinusoidal\n",
        "        weighting and an infinite end-point.\n",
        "    \n",
        "    See Also\n",
        "    --------\n",
        "    dblquad : double integral\n",
        "    tplquad : triple integral\n",
        "    nquad : n-dimensional integrals (uses `quad` recursively)\n",
        "    fixed_quad : fixed-order Gaussian quadrature\n",
        "    quadrature : adaptive Gaussian quadrature\n",
        "    odeint : ODE integrator\n",
        "    ode : ODE integrator\n",
        "    simps : integrator for sampled data\n",
        "    romb : integrator for sampled data\n",
        "    scipy.special : for coefficients and roots of orthogonal polynomials\n",
        "    \n",
        "    Notes\n",
        "    -----\n",
        "    \n",
        "    **Extra information for quad() inputs and outputs**\n",
        "    \n",
        "    If full_output is non-zero, then the third output argument\n",
        "    (infodict) is a dictionary with entries as tabulated below.  For\n",
        "    infinite limits, the range is transformed to (0,1) and the\n",
        "    optional outputs are given with respect to this transformed range.\n",
        "    Let M be the input argument limit and let K be infodict['last'].\n",
        "    The entries are:\n",
        "    \n",
        "    'neval'\n",
        "        The number of function evaluations.\n",
        "    'last'\n",
        "        The number, K, of subintervals produced in the subdivision process.\n",
        "    'alist'\n",
        "        A rank-1 array of length M, the first K elements of which are the\n",
        "        left end points of the subintervals in the partition of the\n",
        "        integration range.\n",
        "    'blist'\n",
        "        A rank-1 array of length M, the first K elements of which are the\n",
        "        right end points of the subintervals.\n",
        "    'rlist'\n",
        "        A rank-1 array of length M, the first K elements of which are the\n",
        "        integral approximations on the subintervals.\n",
        "    'elist'\n",
        "        A rank-1 array of length M, the first K elements of which are the\n",
        "        moduli of the absolute error estimates on the subintervals.\n",
        "    'iord'\n",
        "        A rank-1 integer array of length M, the first L elements of\n",
        "        which are pointers to the error estimates over the subintervals\n",
        "        with L=K if K<=M/2+2 or L=M+1-K otherwise. Let I be the sequence\n",
        "        infodict['iord'] and let E be the sequence infodict['elist'].\n",
        "        Then E[I[1]], ..., E[I[L]] forms a decreasing sequence.\n",
        "    \n",
        "    If the input argument points is provided (i.e. it is not None),\n",
        "    the following additional outputs are placed in the output\n",
        "    dictionary.  Assume the points sequence is of length P.\n",
        "    \n",
        "    'pts'\n",
        "        A rank-1 array of length P+2 containing the integration limits\n",
        "        and the break points of the intervals in ascending order.\n",
        "        This is an array giving the subintervals over which integration\n",
        "        will occur.\n",
        "    'level'\n",
        "        A rank-1 integer array of length M (=limit), containing the\n",
        "        subdivision levels of the subintervals, i.e., if (aa,bb) is a\n",
        "        subinterval of (pts[1], pts[2]) where pts[0] and pts[2] are\n",
        "        adjacent elements of infodict['pts'], then (aa,bb) has level l if\n",
        "        |bb-aa|=|pts[2]-pts[1]| * 2**(-l).\n",
        "    'ndin'\n",
        "        A rank-1 integer array of length P+2.  After the first integration\n",
        "        over the intervals (pts[1], pts[2]), the error estimates over some\n",
        "        of the intervals may have been increased artificially in order to\n",
        "        put their subdivision forward.  This array has ones in slots\n",
        "        corresponding to the subintervals for which this happens.\n",
        "    \n",
        "    **Weighting the integrand**\n",
        "    \n",
        "    The input variables, *weight* and *wvar*, are used to weight the\n",
        "    integrand by a select list of functions.  Different integration\n",
        "    methods are used to compute the integral with these weighting\n",
        "    functions.  The possible values of weight and the corresponding\n",
        "    weighting functions are.\n",
        "    \n",
        "    ==========  ===================================   =====================\n",
        "    ``weight``  Weight function used                  ``wvar``\n",
        "    ==========  ===================================   =====================\n",
        "    'cos'       cos(w*x)                              wvar = w\n",
        "    'sin'       sin(w*x)                              wvar = w\n",
        "    'alg'       g(x) = ((x-a)**alpha)*((b-x)**beta)   wvar = (alpha, beta)\n",
        "    'alg-loga'  g(x)*log(x-a)                         wvar = (alpha, beta)\n",
        "    'alg-logb'  g(x)*log(b-x)                         wvar = (alpha, beta)\n",
        "    'alg-log'   g(x)*log(x-a)*log(b-x)                wvar = (alpha, beta)\n",
        "    'cauchy'    1/(x-c)                               wvar = c\n",
        "    ==========  ===================================   =====================\n",
        "    \n",
        "    wvar holds the parameter w, (alpha, beta), or c depending on the weight\n",
        "    selected.  In these expressions, a and b are the integration limits.\n",
        "    \n",
        "    For the 'cos' and 'sin' weighting, additional inputs and outputs are\n",
        "    available.\n",
        "    \n",
        "    For finite integration limits, the integration is performed using a\n",
        "    Clenshaw-Curtis method which uses Chebyshev moments.  For repeated\n",
        "    calculations, these moments are saved in the output dictionary:\n",
        "    \n",
        "    'momcom'\n",
        "        The maximum level of Chebyshev moments that have been computed,\n",
        "        i.e., if M_c is infodict['momcom'] then the moments have been\n",
        "        computed for intervals of length |b-a|* 2**(-l), l=0,1,...,M_c.\n",
        "    'nnlog'\n",
        "        A rank-1 integer array of length M(=limit), containing the\n",
        "        subdivision levels of the subintervals, i.e., an element of this\n",
        "        array is equal to l if the corresponding subinterval is\n",
        "        |b-a|* 2**(-l).\n",
        "    'chebmo'\n",
        "        A rank-2 array of shape (25, maxp1) containing the computed\n",
        "        Chebyshev moments.  These can be passed on to an integration\n",
        "        over the same interval by passing this array as the second\n",
        "        element of the sequence wopts and passing infodict['momcom'] as\n",
        "        the first element.\n",
        "    \n",
        "    If one of the integration limits is infinite, then a Fourier integral is\n",
        "    computed (assuming w neq 0).  If full_output is 1 and a numerical error\n",
        "    is encountered, besides the error message attached to the output tuple,\n",
        "    a dictionary is also appended to the output tuple which translates the\n",
        "    error codes in the array info['ierlst'] to English messages.  The output\n",
        "    information dictionary contains the following entries instead of 'last',\n",
        "    'alist', 'blist', 'rlist', and 'elist':\n",
        "    \n",
        "    'lst'\n",
        "        The number of subintervals needed for the integration (call it K_f).\n",
        "    'rslst'\n",
        "        A rank-1 array of length M_f=limlst, whose first K_f elements\n",
        "        contain the integral contribution over the interval (a+(k-1)c,\n",
        "        a+kc) where c = (2*floor(|w|) + 1) * pi / |w| and k=1,2,...,K_f.\n",
        "    'erlst'\n",
        "        A rank-1 array of length M_f containing the error estimate\n",
        "        corresponding to the interval in the same position in\n",
        "        infodict['rslist'].\n",
        "    'ierlst'\n",
        "        A rank-1 integer array of length M_f containing an error flag\n",
        "        corresponding to the interval in the same position in\n",
        "        infodict['rslist'].  See the explanation dictionary (last entry\n",
        "        in the output tuple) for the meaning of the codes.\n",
        "    \n",
        "    Examples\n",
        "    --------\n",
        "    Calculate :math:`\\int^4_0 x^2 dx` and compare with an analytic result\n",
        "    \n",
        "    >>> from scipy import integrate\n",
        "    >>> x2 = lambda x: x**2\n",
        "    >>> integrate.quad(x2, 0, 4)\n",
        "    (21.333333333333332, 2.3684757858670003e-13)\n",
        "    >>> print(4**3 / 3.)  # analytical result\n",
        "    21.3333333333\n",
        "    \n",
        "    Calculate :math:`\\int^\\infty_0 e^{-x} dx`\n",
        "    \n",
        "    >>> invexp = lambda x: np.exp(-x)\n",
        "    >>> integrate.quad(invexp, 0, np.inf)\n",
        "    (1.0, 5.842605999138044e-11)\n",
        "    \n",
        "    >>> f = lambda x,a : a*x\n",
        "    >>> y, err = integrate.quad(f, 0, 1, args=(1,))\n",
        "    >>> y\n",
        "    0.5\n",
        "    >>> y, err = integrate.quad(f, 0, 1, args=(3,))\n",
        "    >>> y\n",
        "    1.5\n",
        "\n"
       ]
      }
     ],
     "prompt_number": 24
    },
    {
     "cell_type": "code",
     "collapsed": false,
     "input": [
      "# define a simple function for the integrand\n",
      "def f(x):\n",
      "    return x"
     ],
     "language": "python",
     "metadata": {},
     "outputs": [],
     "prompt_number": 25
    },
    {
     "cell_type": "code",
     "collapsed": false,
     "input": [
      "x_lower = 0 # the lower limit of x\n",
      "x_upper = 1 # the upper limit of x\n",
      "\n",
      "val, abserr = quad(f,x_lower,x_upper)\n",
      "\n",
      "print \"integral value = \", val, \"absolute error = \", abserr"
     ],
     "language": "python",
     "metadata": {},
     "outputs": [
      {
       "output_type": "stream",
       "stream": "stdout",
       "text": [
        "integral value =  0.5 absolute error =  5.55111512313e-15\n"
       ]
      }
     ],
     "prompt_number": 27
    },
    {
     "cell_type": "markdown",
     "metadata": {},
     "source": [
      "If we need to pass extra arguments to integrand function we can use the args keyword argument:\n",
      "\n",
      "$$ \\int_0^1 x dx$$"
     ]
    },
    {
     "cell_type": "code",
     "collapsed": false,
     "input": [
      "def integrand(x,n):\n",
      "    \"\"\"\n",
      "    Bessel function of first kind and order n\n",
      "    \"\"\"\n",
      "    return jn(n,x)\n",
      "\n",
      "x_lower = 0 # the lower limit of x\n",
      "x_upper = 10 # the upper limit of x\n",
      "\n",
      "val,abserr = quad(integrand,x_lower,x_upper,args=(3,))\n",
      "\n",
      "print val, abserr"
     ],
     "language": "python",
     "metadata": {},
     "outputs": [
      {
       "output_type": "stream",
       "stream": "stdout",
       "text": [
        "0.736675137081 9.3891268825e-13\n"
       ]
      }
     ],
     "prompt_number": 29
    },
    {
     "cell_type": "markdown",
     "metadata": {},
     "source": [
      "For simple functions we can use a lambda function (name-less function) instead of explicitly defining a function for the integrand:"
     ]
    },
    {
     "cell_type": "code",
     "collapsed": false,
     "input": [
      "val,abserr = quad(lambda x: exp(-x**2),-Inf,Inf)\n",
      "\n",
      "print \"numerical e=\", val, abserr\n",
      "\n",
      "analytical = sqrt(pi)\n",
      "\n",
      "print \"analytical e=\", analytical"
     ],
     "language": "python",
     "metadata": {},
     "outputs": [
      {
       "output_type": "stream",
       "stream": "stdout",
       "text": [
        "numerical e= 1.77245385091 1.42026367809e-08\n",
        "analytical e= 1.77245385091\n"
       ]
      }
     ],
     "prompt_number": 30
    },
    {
     "cell_type": "markdown",
     "metadata": {},
     "source": [
      "As we show in the example above, we can also use 'Inf' or '-Inf' as integral limits.\n",
      "\n",
      "Higher-dimensional integration works in the same way:\n",
      "\n",
      "$$ \\int_0^{10} \\int_0^{10} e^{-x^2-y^2} dx dy$$"
     ]
    },
    {
     "cell_type": "code",
     "collapsed": false,
     "input": [
      "def integrand(x,y):\n",
      "    return exp(-x**2-y**2)\n",
      "\n",
      "x_lower = 0\n",
      "x_upper = 10\n",
      "y_lower = 0\n",
      "y_upper = 10\n",
      "\n",
      "val, abserr = dblquad(integrand,x_lower,x_upper, lambda x : y_lower, lambda x: y_upper)\n",
      "\n",
      "print val, abserr"
     ],
     "language": "python",
     "metadata": {},
     "outputs": [
      {
       "output_type": "stream",
       "stream": "stdout",
       "text": [
        "0.785398163397 1.63822994214e-13\n"
       ]
      }
     ],
     "prompt_number": 33
    },
    {
     "cell_type": "markdown",
     "metadata": {},
     "source": [
      "Now we had to pass lambda functions for the limits for the y integration, since these in general can be function of x. "
     ]
    },
    {
     "cell_type": "heading",
     "level": 3,
     "metadata": {},
     "source": [
      "Ordinary differential Equations"
     ]
    },
    {
     "cell_type": "markdown",
     "metadata": {},
     "source": [
      "SciPy provides two different ways to solve ODEs: An API based on the function odeint, an object-oriented API based on the class ode. Usually odeint is easier to get started with, but the ode class offers some finer level of control.\n",
      "\n",
      "Here we will use the odeint functions. For more information about the class ode, try help(ode). It does pretty much the same thing as odeint, but in an object-oriented fashion.\n",
      "\n",
      "To use odeint, first import it from the scipy.integrate modules"
     ]
    },
    {
     "cell_type": "code",
     "collapsed": false,
     "input": [
      "from scipy.integrate import odeint, ode\n",
      "\n",
      "help(ode)"
     ],
     "language": "python",
     "metadata": {},
     "outputs": [
      {
       "output_type": "stream",
       "stream": "stdout",
       "text": [
        "Help on class ode in module scipy.integrate._ode:\n",
        "\n",
        "class ode(__builtin__.object)\n",
        " |  A generic interface class to numeric integrators.\n",
        " |  \n",
        " |  Solve an equation system :math:`y'(t) = f(t,y)` with (optional) ``jac = df/dy``.\n",
        " |  \n",
        " |  Parameters\n",
        " |  ----------\n",
        " |  f : callable ``f(t, y, *f_args)``\n",
        " |      Rhs of the equation. t is a scalar, ``y.shape == (n,)``.\n",
        " |      ``f_args`` is set by calling ``set_f_params(*args)``.\n",
        " |      `f` should return a scalar, array or list (not a tuple).\n",
        " |  jac : callable ``jac(t, y, *jac_args)``\n",
        " |      Jacobian of the rhs, ``jac[i,j] = d f[i] / d y[j]``.\n",
        " |      ``jac_args`` is set by calling ``set_f_params(*args)``.\n",
        " |  \n",
        " |  Attributes\n",
        " |  ----------\n",
        " |  t : float\n",
        " |      Current time.\n",
        " |  y : ndarray\n",
        " |      Current variable values.\n",
        " |  \n",
        " |  See also\n",
        " |  --------\n",
        " |  odeint : an integrator with a simpler interface based on lsoda from ODEPACK\n",
        " |  quad : for finding the area under a curve\n",
        " |  \n",
        " |  Notes\n",
        " |  -----\n",
        " |  Available integrators are listed below. They can be selected using\n",
        " |  the `set_integrator` method.\n",
        " |  \n",
        " |  \"vode\"\n",
        " |  \n",
        " |      Real-valued Variable-coefficient Ordinary Differential Equation\n",
        " |      solver, with fixed-leading-coefficient implementation. It provides\n",
        " |      implicit Adams method (for non-stiff problems) and a method based on\n",
        " |      backward differentiation formulas (BDF) (for stiff problems).\n",
        " |  \n",
        " |      Source: http://www.netlib.org/ode/vode.f\n",
        " |  \n",
        " |      .. warning::\n",
        " |  \n",
        " |         This integrator is not re-entrant. You cannot have two `ode`\n",
        " |         instances using the \"vode\" integrator at the same time.\n",
        " |  \n",
        " |      This integrator accepts the following parameters in `set_integrator`\n",
        " |      method of the `ode` class:\n",
        " |  \n",
        " |      - atol : float or sequence\n",
        " |        absolute tolerance for solution\n",
        " |      - rtol : float or sequence\n",
        " |        relative tolerance for solution\n",
        " |      - lband : None or int\n",
        " |      - rband : None or int\n",
        " |        Jacobian band width, jac[i,j] != 0 for i-lband <= j <= i+rband.\n",
        " |        Setting these requires your jac routine to return the jacobian\n",
        " |        in packed format, jac_packed[i-j+lband, j] = jac[i,j].\n",
        " |      - method: 'adams' or 'bdf'\n",
        " |        Which solver to use, Adams (non-stiff) or BDF (stiff)\n",
        " |      - with_jacobian : bool\n",
        " |        Whether to use the jacobian\n",
        " |      - nsteps : int\n",
        " |        Maximum number of (internally defined) steps allowed during one\n",
        " |        call to the solver.\n",
        " |      - first_step : float\n",
        " |      - min_step : float\n",
        " |      - max_step : float\n",
        " |        Limits for the step sizes used by the integrator.\n",
        " |      - order : int\n",
        " |        Maximum order used by the integrator,\n",
        " |        order <= 12 for Adams, <= 5 for BDF.\n",
        " |  \n",
        " |  \"zvode\"\n",
        " |  \n",
        " |      Complex-valued Variable-coefficient Ordinary Differential Equation\n",
        " |      solver, with fixed-leading-coefficient implementation.  It provides\n",
        " |      implicit Adams method (for non-stiff problems) and a method based on\n",
        " |      backward differentiation formulas (BDF) (for stiff problems).\n",
        " |  \n",
        " |      Source: http://www.netlib.org/ode/zvode.f\n",
        " |  \n",
        " |      .. warning::\n",
        " |  \n",
        " |         This integrator is not re-entrant. You cannot have two `ode`\n",
        " |         instances using the \"zvode\" integrator at the same time.\n",
        " |  \n",
        " |      This integrator accepts the same parameters in `set_integrator`\n",
        " |      as the \"vode\" solver.\n",
        " |  \n",
        " |      .. note::\n",
        " |  \n",
        " |          When using ZVODE for a stiff system, it should only be used for\n",
        " |          the case in which the function f is analytic, that is, when each f(i)\n",
        " |          is an analytic function of each y(j).  Analyticity means that the\n",
        " |          partial derivative df(i)/dy(j) is a unique complex number, and this\n",
        " |          fact is critical in the way ZVODE solves the dense or banded linear\n",
        " |          systems that arise in the stiff case.  For a complex stiff ODE system\n",
        " |          in which f is not analytic, ZVODE is likely to have convergence\n",
        " |          failures, and for this problem one should instead use DVODE on the\n",
        " |          equivalent real system (in the real and imaginary parts of y).\n",
        " |  \n",
        " |  \"lsoda\"\n",
        " |  \n",
        " |      Real-valued Variable-coefficient Ordinary Differential Equation\n",
        " |      solver, with fixed-leading-coefficient implementation. It provides\n",
        " |      automatic method switching between implicit Adams method (for non-stiff\n",
        " |      problems) and a method based on backward differentiation formulas (BDF)\n",
        " |      (for stiff problems).\n",
        " |  \n",
        " |      Source: http://www.netlib.org/odepack\n",
        " |  \n",
        " |      .. warning::\n",
        " |  \n",
        " |         This integrator is not re-entrant. You cannot have two `ode`\n",
        " |         instances using the \"lsoda\" integrator at the same time.\n",
        " |  \n",
        " |      This integrator accepts the following parameters in `set_integrator`\n",
        " |      method of the `ode` class:\n",
        " |  \n",
        " |      - atol : float or sequence\n",
        " |        absolute tolerance for solution\n",
        " |      - rtol : float or sequence\n",
        " |        relative tolerance for solution\n",
        " |      - lband : None or int\n",
        " |      - rband : None or int\n",
        " |        Jacobian band width, jac[i,j] != 0 for i-lband <= j <= i+rband.\n",
        " |        Setting these requires your jac routine to return the jacobian\n",
        " |        in packed format, jac_packed[i-j+lband, j] = jac[i,j].\n",
        " |      - with_jacobian : bool\n",
        " |        Whether to use the jacobian\n",
        " |      - nsteps : int\n",
        " |        Maximum number of (internally defined) steps allowed during one\n",
        " |        call to the solver.\n",
        " |      - first_step : float\n",
        " |      - min_step : float\n",
        " |      - max_step : float\n",
        " |        Limits for the step sizes used by the integrator.\n",
        " |      - max_order_ns : int\n",
        " |        Maximum order used in the nonstiff case (default 12).\n",
        " |      - max_order_s : int\n",
        " |        Maximum order used in the stiff case (default 5).\n",
        " |      - max_hnil : int\n",
        " |        Maximum number of messages reporting too small step size (t + h = t)\n",
        " |        (default 0)\n",
        " |      - ixpr : int\n",
        " |        Whether to generate extra printing at method switches (default False).\n",
        " |  \n",
        " |  \"dopri5\"\n",
        " |  \n",
        " |      This is an explicit runge-kutta method of order (4)5 due to Dormand &\n",
        " |      Prince (with stepsize control and dense output).\n",
        " |  \n",
        " |      Authors:\n",
        " |  \n",
        " |          E. Hairer and G. Wanner\n",
        " |          Universite de Geneve, Dept. de Mathematiques\n",
        " |          CH-1211 Geneve 24, Switzerland\n",
        " |          e-mail:  ernst.hairer@math.unige.ch, gerhard.wanner@math.unige.ch\n",
        " |  \n",
        " |      This code is described in [HNW93]_.\n",
        " |  \n",
        " |      This integrator accepts the following parameters in set_integrator()\n",
        " |      method of the ode class:\n",
        " |  \n",
        " |      - atol : float or sequence\n",
        " |        absolute tolerance for solution\n",
        " |      - rtol : float or sequence\n",
        " |        relative tolerance for solution\n",
        " |      - nsteps : int\n",
        " |        Maximum number of (internally defined) steps allowed during one\n",
        " |        call to the solver.\n",
        " |      - first_step : float\n",
        " |      - max_step : float\n",
        " |      - safety : float\n",
        " |        Safety factor on new step selection (default 0.9)\n",
        " |      - ifactor : float\n",
        " |      - dfactor : float\n",
        " |        Maximum factor to increase/decrease step size by in one step\n",
        " |      - beta : float\n",
        " |        Beta parameter for stabilised step size control.\n",
        " |      - verbosity : int\n",
        " |        Switch for printing messages (< 0 for no messages).\n",
        " |  \n",
        " |  \"dop853\"\n",
        " |  \n",
        " |      This is an explicit runge-kutta method of order 8(5,3) due to Dormand\n",
        " |      & Prince (with stepsize control and dense output).\n",
        " |  \n",
        " |      Options and references the same as \"dopri5\".\n",
        " |  \n",
        " |  Examples\n",
        " |  --------\n",
        " |  \n",
        " |  A problem to integrate and the corresponding jacobian:\n",
        " |  \n",
        " |  >>> from scipy.integrate import ode\n",
        " |  >>>\n",
        " |  >>> y0, t0 = [1.0j, 2.0], 0\n",
        " |  >>>\n",
        " |  >>> def f(t, y, arg1):\n",
        " |  >>>     return [1j*arg1*y[0] + y[1], -arg1*y[1]**2]\n",
        " |  >>> def jac(t, y, arg1):\n",
        " |  >>>     return [[1j*arg1, 1], [0, -arg1*2*y[1]]]\n",
        " |  \n",
        " |  The integration:\n",
        " |  \n",
        " |  >>> r = ode(f, jac).set_integrator('zvode', method='bdf', with_jacobian=True)\n",
        " |  >>> r.set_initial_value(y0, t0).set_f_params(2.0).set_jac_params(2.0)\n",
        " |  >>> t1 = 10\n",
        " |  >>> dt = 1\n",
        " |  >>> while r.successful() and r.t < t1:\n",
        " |  >>>     r.integrate(r.t+dt)\n",
        " |  >>>     print(\"%g %g\" % (r.t, r.y))\n",
        " |  \n",
        " |  References\n",
        " |  ----------\n",
        " |  .. [HNW93] E. Hairer, S.P. Norsett and G. Wanner, Solving Ordinary\n",
        " |      Differential Equations i. Nonstiff Problems. 2nd edition.\n",
        " |      Springer Series in Computational Mathematics,\n",
        " |      Springer-Verlag (1993)\n",
        " |  \n",
        " |  Methods defined here:\n",
        " |  \n",
        " |  __init__(self, f, jac=None)\n",
        " |  \n",
        " |  integrate(self, t, step=0, relax=0)\n",
        " |      Find y=y(t), set y as an initial condition, and return y.\n",
        " |  \n",
        " |  set_f_params(self, *args)\n",
        " |      Set extra parameters for user-supplied function f.\n",
        " |  \n",
        " |  set_initial_value(self, y, t=0.0)\n",
        " |      Set initial conditions y(t) = y.\n",
        " |  \n",
        " |  set_integrator(self, name, **integrator_params)\n",
        " |      Set integrator by name.\n",
        " |      \n",
        " |      Parameters\n",
        " |      ----------\n",
        " |      name : str\n",
        " |          Name of the integrator.\n",
        " |      integrator_params :\n",
        " |          Additional parameters for the integrator.\n",
        " |  \n",
        " |  set_jac_params(self, *args)\n",
        " |      Set extra parameters for user-supplied function jac.\n",
        " |  \n",
        " |  set_solout(self, solout)\n",
        " |      Set callable to be called at every successful integration step.\n",
        " |      \n",
        " |      Parameters\n",
        " |      ----------\n",
        " |      solout : callable\n",
        " |          ``solout(t, y)`` is called at each internal integrator step,\n",
        " |          t is a scalar providing the current independent position\n",
        " |          y is the current soloution ``y.shape == (n,)``\n",
        " |          solout should return -1 to stop integration\n",
        " |          otherwise it should return None or 0\n",
        " |  \n",
        " |  successful(self)\n",
        " |      Check if integration was successful.\n",
        " |  \n",
        " |  ----------------------------------------------------------------------\n",
        " |  Data descriptors defined here:\n",
        " |  \n",
        " |  __dict__\n",
        " |      dictionary for instance variables (if defined)\n",
        " |  \n",
        " |  __weakref__\n",
        " |      list of weak references to the object (if defined)\n",
        " |  \n",
        " |  y\n",
        "\n"
       ]
      }
     ],
     "prompt_number": 35
    },
    {
     "cell_type": "markdown",
     "metadata": {},
     "source": [
      "A system of ODEs are usually formulated on standard form before it is attacked numerically. The standard form is:\n",
      "\n",
      "$$ \\dot{y} = f(y,t) $$\n",
      "where\n",
      "$$ y = [ y_1(t), y_2(t),\\dots, y_n(t)] $$\n",
      "and $f$ is some function that fives the derivatives of the funciton $y_i(t)$. To solve an ODE we need to know the function $f$ and an initial condition, $y(0)$.\n",
      "\n",
      "Note that higher-order ODEs can always be written in this form by introducing new variables for the intermediate derivatives.\n",
      "\n",
      "Once we have defined the Python function for $f$ and array $y_0$ we can use the odeint funciton as: \n",
      "    \n",
      "    y_t = odeint(f,y_0,t)\n",
      "\n",
      "where t is an array with time-coordinates for which to solve the ODE problem. y_t is an array with one row for each point in time in t, where each column corresponds to a solution y_i(t) at that point in time.\n",
      "\n",
      "We will see how we can implement f and y_0 in Python code in the examples below."
     ]
    },
    {
     "cell_type": "heading",
     "level": 4,
     "metadata": {},
     "source": [
      "Example: double pendulum"
     ]
    },
    {
     "cell_type": "markdown",
     "metadata": {},
     "source": [
      "Let's consider a physical example: The double compound pendulum, described in some detail here: http://en.wikipedia.org/wiki/Double_pendulum"
     ]
    },
    {
     "cell_type": "code",
     "collapsed": false,
     "input": [
      "Image(url='http://upload.wikimedia.org/wikipedia/commons/c/c9/Double-compound-pendulum-dimensioned.svg')"
     ],
     "language": "python",
     "metadata": {},
     "outputs": [
      {
       "html": [
        "<img src=\"http://upload.wikimedia.org/wikipedia/commons/c/c9/Double-compound-pendulum-dimensioned.svg\"/>"
       ],
       "metadata": {},
       "output_type": "pyout",
       "prompt_number": 36,
       "text": [
        "<IPython.core.display.Image at 0x106557ed0>"
       ]
      }
     ],
     "prompt_number": 36
    },
    {
     "cell_type": "markdown",
     "metadata": {},
     "source": [
      "The equations of motion of the pendulum are given on the wiki page:\n",
      "\n",
      "$${\\dot \\theta_1} = \\frac{6}{m\\ell^2} \\frac{ 2 p_{\\theta_1} - 3 \\cos(\\theta_1-\\theta_2) p_{\\theta_2}}{16 - 9 \\cos^2(\\theta_1-\\theta_2)}$$\n",
      "\n",
      "$${\\dot \\theta_2} = \\frac{6}{m\\ell^2} \\frac{ 8 p_{\\theta_2} - 3 \\cos(\\theta_1-\\theta_2) p_{\\theta_1}}{16 - 9 \\cos^2(\\theta_1-\\theta_2)}$$\n",
      "\n",
      "$$ {\\dot p_{\\theta_1}} = \\frac{\\partial L}{\\partial \\theta_1} = -\\frac{1}{2} m \\ell^2 \\left [ {\\dot \\theta_1} {\\dot \\theta_2} \\sin (\\theta_1-\\theta_2) + 3 \\frac{g}{\\ell} \\sin \\theta_1 \\right ]$$\n",
      "\n",
      "$${\\dot p_{\\theta_2}} = \\frac{\\partial L}{\\partial \\theta_2}\n",
      " = -\\frac{1}{2} m \\ell^2 \\left [ -{\\dot \\theta_1} {\\dot \\theta_2} \\sin (\\theta_1-\\theta_2) +  \\frac{g}{\\ell} \\sin \\theta_2 \\right ].$$\n",
      "\n"
     ]
    },
    {
     "cell_type": "markdown",
     "metadata": {},
     "source": [
      "To make the Python code simpler to follow, let's introduce new variable names and the vector notation: $x = [\\theta_1, \\theta_2, p_{\\theta_1}, p_{\\theta_2}]$"
     ]
    },
    {
     "cell_type": "markdown",
     "metadata": {},
     "source": [
      "\n",
      "$${\\dot x_1} = \\frac{6}{m \\ell^2} \\frac{ 2 x_3 - 3 \\cos(x_1-x_2) x_4}{16 - 9 \\cos^2(x_1-x_2)}$$\n",
      "\n",
      "$${\\dot x_2} = \\frac{6}{m \\ell^2} \\frac{ 8 x_4 - 3 \\cos(x_1-x_2) x_3}{16 - 9 \\cos^2(x_1-x_2)}$$\n",
      "\n",
      "$${\\dot x_3} = -\\frac{1}{2} m \\ell^2 \\left [ {\\dot x_1} {\\dot x_2} \\sin (x_1-x_2) + 3 \\frac{g}{\\ell} \\sin x_1 \\right ]$$\n",
      "\n",
      "$${\\dot x_4} = -\\frac{1}{2} m \\ell^2 \\left [ -{\\dot x_1} {\\dot x_2} \\sin (x_1-x_2) + \\frac{g}{\\ell} \\sin x_2 \\right]$$"
     ]
    },
    {
     "cell_type": "code",
     "collapsed": false,
     "input": [
      "g = 9.82\n",
      "L = 0.5\n",
      "m = 0.1\n",
      "\n",
      "def dx(x, t):\n",
      "    \"\"\"\n",
      "    The right-hand side of the pendelum ODE\n",
      "    \"\"\"\n",
      "    x1, x2, x3, x4 = x[0], x[1], x[2], x[3]\n",
      "    \n",
      "    dx1 = 6.0/(m*L**2) * (2 * x3 - 3 * cos(x1-x2) * x4)/(16 - 9 * cos(x1-x2)**2)\n",
      "    dx2 = 6.0/(m*L**2) * (8 * x4 - 3 * cos(x1-x2) * x3)/(16 - 9 * cos(x1-x2)**2)\n",
      "    dx3 = -0.5 * m * L**2 * ( dx1 * dx2 * sin(x1-x2) + 3 * (g/L) * sin(x1))\n",
      "    dx4 = -0.5 * m * L**2 * (-dx1 * dx2 * sin(x1-x2) + (g/L) * sin(x2))\n",
      "    \n",
      "    return [dx1, dx2, dx3, dx4]"
     ],
     "language": "python",
     "metadata": {},
     "outputs": [],
     "prompt_number": 68
    },
    {
     "cell_type": "code",
     "collapsed": false,
     "input": [
      "# choose an initial state\n",
      "x0 = [pi/4, pi/2, 0, 0]"
     ],
     "language": "python",
     "metadata": {},
     "outputs": [],
     "prompt_number": 62
    },
    {
     "cell_type": "code",
     "collapsed": false,
     "input": [
      "# time coordinate to solve the ODE for: from 0 to 10 seconds\n",
      "t = linspace(0, 10, 250)"
     ],
     "language": "python",
     "metadata": {},
     "outputs": [],
     "prompt_number": 63
    },
    {
     "cell_type": "code",
     "collapsed": false,
     "input": [
      "# solve the ODE problem\n",
      "x = odeint(dx, x0, t)"
     ],
     "language": "python",
     "metadata": {},
     "outputs": [],
     "prompt_number": 64
    },
    {
     "cell_type": "code",
     "collapsed": false,
     "input": [
      "# plot the angles as a function of time\n",
      "\n",
      "fig, axes = subplots(1,2, figsize=(12,4))\n",
      "axes[0].plot(t, x[:, 0], 'r', label=\"theta1\")\n",
      "axes[0].plot(t, x[:, 1], 'b', label=\"theta2\")\n",
      "\n",
      "x1 = + L * sin(x[:, 0])\n",
      "y1 = - L * cos(x[:, 0])\n",
      "\n",
      "x2 = x1 + L * sin(x[:, 1])\n",
      "y2 = y1 - L * cos(x[:,  1])\n",
      "\n",
      "axes[1].plot(x1, y1, 'r', label=\"pendulum1\")\n",
      "axes[1].plot(x2, y2, 'b', label=\"pendulum2\")\n",
      "axes[1].set_ylim([-1, 0])\n",
      "axes[1].set_xlim([1, -1]);"
     ],
     "language": "python",
     "metadata": {},
     "outputs": [
      {
       "metadata": {},
       "output_type": "display_data",
       "png": "[encoded data removed]",
       "text": [
        "<matplotlib.figure.Figure at 0x1072e0f50>"
       ]
      }
     ],
     "prompt_number": 70
    },
    {
     "cell_type": "markdown",
     "metadata": {},
     "source": [
      "Simple animation of the pendulum motion. We will see how to make better animation in Lecure 4."
     ]
    },
    {
     "cell_type": "code",
     "collapsed": false,
     "input": [
      "from IPython.display import clear_output\n",
      "import time"
     ],
     "language": "python",
     "metadata": {},
     "outputs": [],
     "prompt_number": 71
    },
    {
     "cell_type": "code",
     "collapsed": false,
     "input": [
      "fig, ax = subplots(figsize=(4,4))\n",
      "\n",
      "for t_idx, tt in enumerate(t[:200]):\n",
      "\n",
      "    x1 = + L * sin(x[t_idx,0])\n",
      "    y1 = - L * cos(x[t_idx,0])\n",
      "    \n",
      "    x2 = x1 + L * sin(x[t_idx,1])\n",
      "    y2 = y1 - L * cos(x[t_idx,1])\n",
      "    \n",
      "    ax.cla()\n",
      "    ax.plot([0,x1],[0,y1],'r.-')\n",
      "    ax.plot([x1, x2], [y1,y2],'b.-')\n",
      "    ax.set_ylim([-1.5,0.5])\n",
      "    ax.set_xlim([1,-1])\n",
      "    \n",
      "    display(fig)\n",
      "    clear_output()\n",
      "    \n",
      "    time.sleep(0.1)"
     ],
     "language": "python",
     "metadata": {},
     "outputs": [
      {
       "metadata": {},
       "output_type": "display_data",
       "png": "[encoded data removed]",
       "text": [
        "<matplotlib.figure.Figure at 0x107376e10>"
       ]
      }
     ],
     "prompt_number": 73
    },
    {
     "cell_type": "heading",
     "level": 4,
     "metadata": {},
     "source": [
      "Example: Damped harmonic oscillator (http://en.wikipedia.org/wiki/Harmonic_oscillator)"
     ]
    },
    {
     "cell_type": "markdown",
     "metadata": {},
     "source": [
      "ODE problems are important in computational physics, so we will look at one more example: the damped harmonic oscillation. This problem is well described on the wiki page: http://en.wikipedia.org/wiki/Damping\n",
      "\n",
      "The equation of motion for the damped oscillator is:\n",
      "\n",
      "$$ \\frac{\\mathrm{d}^2x}{\\mathrm{d}t^2} + 2\\zeta\\omega_0\\frac{\\mathrm{d}x}{\\mathrm{d}t} + \\omega^2_0 x = 0$$\n",
      "\n",
      "where $x$ is the position of the oscillator, $\\omega_0$ is the frequency, and $\\zeta$ is the damping ratio. To write this second-order ODE on standard form we introduce $p = \\frac{\\mathrm{d}x}{\\mathrm{d}t}$:\n",
      "\n",
      "$$\\displaystyle \\frac{\\mathrm{d}p}{\\mathrm{d}t} = - 2\\zeta\\omega_0 p - \\omega^2_0 x$$\n",
      "\n",
      "$$\\displaystyle \\frac{\\mathrm{d}x}{\\mathrm{d}t} = p$$\n",
      "\n",
      "In the implementation of this example we will add extra arguments to the RHS function for the ODE, rather than using global variables as we did in the previous example. As a consequence of the extra arguments to the RHS, we need to passs a keyword args to the odeint function:\n",
      "\n"
     ]
    },
    {
     "cell_type": "code",
     "collapsed": false,
     "input": [
      "def dy(y,t,zeta,w0):\n",
      "    \"\"\"\n",
      "    The right-hand side of the damped oscillator ODE\n",
      "    \"\"\"\n",
      "    x,p = y[0],y[1]\n",
      "    \n",
      "    dx = p\n",
      "    dp = -2 * zeta * w0 * p - w0**2 * x\n",
      "    \n",
      "    return [dx,dp]"
     ],
     "language": "python",
     "metadata": {},
     "outputs": [],
     "prompt_number": 74
    },
    {
     "cell_type": "code",
     "collapsed": false,
     "input": [
      "# initial state:\n",
      "y0 = [1.0, 0.0]"
     ],
     "language": "python",
     "metadata": {},
     "outputs": [],
     "prompt_number": 75
    },
    {
     "cell_type": "code",
     "collapsed": false,
     "input": [
      "# time coordinate to solve the ODE for\n",
      "t = linspace(0,10,1000)\n",
      "w0 = 2*pi*1.0"
     ],
     "language": "python",
     "metadata": {},
     "outputs": [],
     "prompt_number": 76
    },
    {
     "cell_type": "code",
     "collapsed": false,
     "input": [
      "# solve the ODE problem for three different values of the damping ratio\n",
      "y1 = odeint(dy, y0, t, args=(0.0, w0)) # undamped\n",
      "y2 = odeint(dy, y0, t, args=(0.2, w0)) # under damped\n",
      "y3 = odeint(dy, y0, t, args=(1.0, w0)) # critial damping\n",
      "y4 = odeint(dy, y0, t, args=(5.0, w0)) # over damped"
     ],
     "language": "python",
     "metadata": {},
     "outputs": [],
     "prompt_number": 77
    },
    {
     "cell_type": "code",
     "collapsed": false,
     "input": [
      "fig, ax = subplots()\n",
      "ax.plot(t, y1[:,0], 'k', label=\"undamped\", linewidth=0.25)\n",
      "ax.plot(t, y2[:,0], 'r', label=\"under damped\")\n",
      "ax.plot(t, y3[:,0], 'b', label=r\"critical damping\")\n",
      "ax.plot(t, y4[:,0], 'g', label=\"over damped\")\n",
      "ax.legend();"
     ],
     "language": "python",
     "metadata": {},
     "outputs": [
      {
       "metadata": {},
       "output_type": "display_data",
       "png": "[encoded data removed]",
       "text": [
        "<matplotlib.figure.Figure at 0x1072d5f50>"
       ]
      }
     ],
     "prompt_number": 78
    },
    {
     "cell_type": "heading",
     "level": 3,
     "metadata": {},
     "source": [
      "Fourier Transform (http://en.wikipedia.org/wiki/Fourier_transform)"
     ]
    },
    {
     "cell_type": "markdown",
     "metadata": {},
     "source": [
      "Fourier transforms are one of the universal tools in computational physics, which appear over and over again in different contexts. SciPy provides functions for accessing the classic FFTPACK library from NetLib, which is an efficient and well test FFT library written in FORTRAN. The SciPy API has a few additional convenience functions, but overall the API is closely related to the original FORTRAN library.\n",
      "\n",
      "To use the fftpack module in a python program, include it using:"
     ]
    },
    {
     "cell_type": "code",
     "collapsed": false,
     "input": [
      "from scipy.fftpack import *"
     ],
     "language": "python",
     "metadata": {},
     "outputs": [],
     "prompt_number": 79
    },
    {
     "cell_type": "markdown",
     "metadata": {},
     "source": [
      "To demonstrate how to do a fast Fourier transform with SciPy, let's look at the FFT of the solution to the damped oscillator from the previous section: http://en.wikipedia.org/wiki/Fast_Fourier_transform\n",
      "\n",
      "$$ X_k =  \\sum_{n=0}^{N-1} x_n e^{-{i 2\\pi k \\frac{n}{N}}}\n",
      "\\qquad\n",
      "k = 0,\\dots,N-1. $$"
     ]
    },
    {
     "cell_type": "code",
     "collapsed": false,
     "input": [
      "N = len(t)\n",
      "dt = t[1]-t[0]\n",
      "\n",
      "# calculate the fast fourier transform\n",
      "# y2 is the solution to the under-damped oscillator from the previous section\n",
      "#F = fft(y1[:,0])\n",
      "F = fft(y2[:,0])\n",
      "# F = fft(y3[:,0])\n",
      "#F = fft(y4[:,0])\n",
      "\n",
      "# calculate the frequencies for the components in F\n",
      "w = fftfreq(N,dt)"
     ],
     "language": "python",
     "metadata": {},
     "outputs": [],
     "prompt_number": 91
    },
    {
     "cell_type": "code",
     "collapsed": false,
     "input": [
      "fig, ax = subplots(figsize=(9,3))\n",
      "ax.plot(w,abs(F))"
     ],
     "language": "python",
     "metadata": {},
     "outputs": [
      {
       "metadata": {},
       "output_type": "pyout",
       "prompt_number": 92,
       "text": [
        "[<matplotlib.lines.Line2D at 0x106eecf50>]"
       ]
      },
      {
       "metadata": {},
       "output_type": "display_data",
       "png": "[encoded data removed]",
       "text": [
        "<matplotlib.figure.Figure at 0x106eecd90>"
       ]
      }
     ],
     "prompt_number": 92
    },
    {
     "cell_type": "markdown",
     "metadata": {},
     "source": [
      "Since the signal is *real*, the spectrum is symmetric. We therefore only need to plot the part that corresponds to the positive frequencies. To extract that part of the w and F we can use some of the indexing tricks for NumPy arrays that we saw in Lecture 2:"
     ]
    },
    {
     "cell_type": "code",
     "collapsed": false,
     "input": [
      "indices = where(w>0) # select only indices for elements that corresponds to positive frequencies\n",
      "w_pos = w[indices]\n",
      "F_pos = F[indices]"
     ],
     "language": "python",
     "metadata": {},
     "outputs": [],
     "prompt_number": 93
    },
    {
     "cell_type": "code",
     "collapsed": false,
     "input": [
      "fig, ax = subplots(figsize=(9,3))\n",
      "ax.plot(w_pos,abs(F_pos))\n",
      "ax.set_xlim(0,5);"
     ],
     "language": "python",
     "metadata": {},
     "outputs": [
      {
       "metadata": {},
       "output_type": "display_data",
       "png": "[encoded data removed]",
       "text": [
        "<matplotlib.figure.Figure at 0x10734d5d0>"
       ]
      }
     ],
     "prompt_number": 94
    },
    {
     "cell_type": "markdown",
     "metadata": {},
     "source": [
      "As we expected, we now see a peak in the spectrum that is centered around 1, which is the frequency we used in the damped oscillator example."
     ]
    },
    {
     "cell_type": "heading",
     "level": 3,
     "metadata": {},
     "source": [
      "Linear algebra (http://en.wikipedia.org/wiki/Linear_algebra)"
     ]
    },
    {
     "cell_type": "markdown",
     "metadata": {},
     "source": [
      "The linear algebra module contains a ot of matrix related functions, including linear equation solving, eqigenvalue solvers, matrix functions (for example matrix-eponentiation), a number of different decompostions (SVD,LU,cholesky), etc.\n",
      "\n",
      "Detailed documentation is available at:  http://docs.scipy.org/doc/scipy/reference/linalg.html\n",
      "\n",
      "Here we will look at how to use some of these functions:"
     ]
    },
    {
     "cell_type": "heading",
     "level": 4,
     "metadata": {},
     "source": [
      "Linear equation systems (http://en.wikipedia.org/wiki/System_of_linear_equations)"
     ]
    },
    {
     "cell_type": "markdown",
     "metadata": {},
     "source": [
      "Linear equation systems on the matrix form:\n",
      "    $$ \\mathrm{A} \\mathbf{x} = \\mathbf{b} $$\n",
      "where $\\mathrm{A}$ is a matrix and $\\mathbf{x},\\mathbf{b}$ are vectors that can be solved like:\n",
      "$$\\begin{pmatrix}\n",
      "  1 & 2 & 3 \\\\\n",
      "  4 & 5 &  6 \\\\\n",
      "  7 & 8 & 9\n",
      " \\end{pmatrix} \n",
      "  \\begin{pmatrix}\n",
      "     x_1\\\\\n",
      "     x_2\\\\\n",
      "     x_3\n",
      "     \\end{pmatrix} =\n",
      "     \\begin{pmatrix}\n",
      "     1\\\\\n",
      "     2\\\\\n",
      "     3\n",
      "     \\end{pmatrix}$$"
     ]
    },
    {
     "cell_type": "code",
     "collapsed": false,
     "input": [
      "A = array([[1,2,3],[4,5,6],[7,8,9]])\n",
      "b = array([1,2,3])\n",
      "\n",
      "x = solve(A,b)\n",
      "\n",
      "x"
     ],
     "language": "python",
     "metadata": {},
     "outputs": [
      {
       "metadata": {},
       "output_type": "pyout",
       "prompt_number": 100,
       "text": [
        "array([-0.33333333,  0.66666667,  0.        ])"
       ]
      }
     ],
     "prompt_number": 100
    },
    {
     "cell_type": "markdown",
     "metadata": {},
     "source": [
      "  $$\\begin{pmatrix}\n",
      "     x_1\\\\\n",
      "     x_2\\\\\n",
      "     x_3\n",
      "     \\end{pmatrix} = \n",
      "     \\begin{pmatrix} \n",
      "     1/3\\\\\n",
      "     2/3\\\\\n",
      "     0\n",
      "     \\end{pmatrix}$$"
     ]
    },
    {
     "cell_type": "code",
     "collapsed": false,
     "input": [
      "#check \n",
      "dot(A,x)-b"
     ],
     "language": "python",
     "metadata": {},
     "outputs": [
      {
       "metadata": {},
       "output_type": "pyout",
       "prompt_number": 101,
       "text": [
        "array([ -1.11022302e-16,   0.00000000e+00,   0.00000000e+00])"
       ]
      }
     ],
     "prompt_number": 101
    },
    {
     "cell_type": "markdown",
     "metadata": {},
     "source": [
      "$$\\mathrm{A} \\mathbf{x} - \\mathbf{b} =\\begin{pmatrix}\n",
      "  1 & 2 & 3 \\\\\n",
      "  4 & 5 &  6 \\\\\n",
      "  7 & 8 & 9\n",
      " \\end{pmatrix} \n",
      "  \\begin{pmatrix}\n",
      "     1/3\\\\\n",
      "     2/3\\\\\n",
      "     0\n",
      "     \\end{pmatrix} -\n",
      "     \\begin{pmatrix}\n",
      "     1\\\\\n",
      "     2\\\\\n",
      "     3\n",
      "     \\end{pmatrix} =\n",
      "     \\begin{pmatrix}\n",
      "     0\\\\\n",
      "     0\\\\\n",
      "     0\n",
      "     \\end{pmatrix}$$"
     ]
    },
    {
     "cell_type": "markdown",
     "metadata": {},
     "source": [
      "We can also do the same with:\n",
      "\n",
      "$$ \\mathrm{A} \\mathrm{X} = \\mathrm{B}$$\n",
      "\n",
      "where $A,B,X$ are matrices."
     ]
    },
    {
     "cell_type": "code",
     "collapsed": false,
     "input": [
      "A = rand(3,3)\n",
      "B = rand(3,3)\n",
      "\n",
      "print \"A= \", A\n",
      "\n",
      "print \"B= \", B"
     ],
     "language": "python",
     "metadata": {},
     "outputs": [
      {
       "output_type": "stream",
       "stream": "stdout",
       "text": [
        "A=  [[ 0.21872074  0.65833777  0.28498837]\n",
        " [ 0.3244651   0.89990227  0.5541696 ]\n",
        " [ 0.83507994  0.4249845   0.22210645]]\n",
        "B=  [[ 0.44103112  0.81711924  0.44404689]\n",
        " [ 0.29241518  0.97396945  0.1824013 ]\n",
        " [ 0.45317409  0.8382602   0.97160195]]\n"
       ]
      }
     ],
     "prompt_number": 110
    },
    {
     "cell_type": "code",
     "collapsed": false,
     "input": [
      "X = solve(A,B)\n"
     ],
     "language": "python",
     "metadata": {},
     "outputs": [],
     "prompt_number": 116
    },
    {
     "cell_type": "code",
     "collapsed": false,
     "input": [
      "X"
     ],
     "language": "python",
     "metadata": {},
     "outputs": [
      {
       "metadata": {},
       "output_type": "pyout",
       "prompt_number": 117,
       "text": [
        "array([[ 0.34941247,  0.49986556,  1.13856511],\n",
        "       [ 1.39365497,  1.48461818,  1.48910641],\n",
        "       [-1.94003828, -0.9459753 , -2.75560691]])"
       ]
      }
     ],
     "prompt_number": 117
    },
    {
     "cell_type": "code",
     "collapsed": false,
     "input": [
      "help(norm)"
     ],
     "language": "python",
     "metadata": {},
     "outputs": [
      {
       "output_type": "stream",
       "stream": "stdout",
       "text": [
        "Help on function norm in module numpy.linalg.linalg:\n",
        "\n",
        "norm(x, ord=None, axis=None)\n",
        "    Matrix or vector norm.\n",
        "    \n",
        "    This function is able to return one of seven different matrix norms,\n",
        "    or one of an infinite number of vector norms (described below), depending\n",
        "    on the value of the ``ord`` parameter.\n",
        "    \n",
        "    Parameters\n",
        "    ----------\n",
        "    x : array_like\n",
        "        Input array.  If `axis` is None, `x` must be 1-D or 2-D.\n",
        "    ord : {non-zero int, inf, -inf, 'fro'}, optional\n",
        "        Order of the norm (see table under ``Notes``). inf means numpy's\n",
        "        `inf` object.\n",
        "    axis : {int, 2-tuple of ints, None}, optional\n",
        "        If `axis` is an integer, it specifies the axis of `x` along which to\n",
        "        compute the vector norms.  If `axis` is a 2-tuple, it specifies the\n",
        "        axes that hold 2-D matrices, and the matrix norms of these matrices\n",
        "        are computed.  If `axis` is None then either a vector norm (when `x`\n",
        "        is 1-D) or a matrix norm (when `x` is 2-D) is returned.\n",
        "    \n",
        "    Returns\n",
        "    -------\n",
        "    n : float or ndarray\n",
        "        Norm of the matrix or vector(s).\n",
        "    \n",
        "    Notes\n",
        "    -----\n",
        "    For values of ``ord <= 0``, the result is, strictly speaking, not a\n",
        "    mathematical 'norm', but it may still be useful for various numerical\n",
        "    purposes.\n",
        "    \n",
        "    The following norms can be calculated:\n",
        "    \n",
        "    =====  ============================  ==========================\n",
        "    ord    norm for matrices             norm for vectors\n",
        "    =====  ============================  ==========================\n",
        "    None   Frobenius norm                2-norm\n",
        "    'fro'  Frobenius norm                --\n",
        "    inf    max(sum(abs(x), axis=1))      max(abs(x))\n",
        "    -inf   min(sum(abs(x), axis=1))      min(abs(x))\n",
        "    0      --                            sum(x != 0)\n",
        "    1      max(sum(abs(x), axis=0))      as below\n",
        "    -1     min(sum(abs(x), axis=0))      as below\n",
        "    2      2-norm (largest sing. value)  as below\n",
        "    -2     smallest singular value       as below\n",
        "    other  --                            sum(abs(x)**ord)**(1./ord)\n",
        "    =====  ============================  ==========================\n",
        "    \n",
        "    The Frobenius norm is given by [1]_:\n",
        "    \n",
        "        :math:`||A||_F = [\\sum_{i,j} abs(a_{i,j})^2]^{1/2}`\n",
        "    \n",
        "    References\n",
        "    ----------\n",
        "    .. [1] G. H. Golub and C. F. Van Loan, *Matrix Computations*,\n",
        "           Baltimore, MD, Johns Hopkins University Press, 1985, pg. 15\n",
        "    \n",
        "    Examples\n",
        "    --------\n",
        "    >>> from numpy import linalg as LA\n",
        "    >>> a = np.arange(9) - 4\n",
        "    >>> a\n",
        "    array([-4, -3, -2, -1,  0,  1,  2,  3,  4])\n",
        "    >>> b = a.reshape((3, 3))\n",
        "    >>> b\n",
        "    array([[-4, -3, -2],\n",
        "           [-1,  0,  1],\n",
        "           [ 2,  3,  4]])\n",
        "    \n",
        "    >>> LA.norm(a)\n",
        "    7.745966692414834\n",
        "    >>> LA.norm(b)\n",
        "    7.745966692414834\n",
        "    >>> LA.norm(b, 'fro')\n",
        "    7.745966692414834\n",
        "    >>> LA.norm(a, np.inf)\n",
        "    4\n",
        "    >>> LA.norm(b, np.inf)\n",
        "    9\n",
        "    >>> LA.norm(a, -np.inf)\n",
        "    0\n",
        "    >>> LA.norm(b, -np.inf)\n",
        "    2\n",
        "    \n",
        "    >>> LA.norm(a, 1)\n",
        "    20\n",
        "    >>> LA.norm(b, 1)\n",
        "    7\n",
        "    >>> LA.norm(a, -1)\n",
        "    -4.6566128774142013e-010\n",
        "    >>> LA.norm(b, -1)\n",
        "    6\n",
        "    >>> LA.norm(a, 2)\n",
        "    7.745966692414834\n",
        "    >>> LA.norm(b, 2)\n",
        "    7.3484692283495345\n",
        "    \n",
        "    >>> LA.norm(a, -2)\n",
        "    nan\n",
        "    >>> LA.norm(b, -2)\n",
        "    1.8570331885190563e-016\n",
        "    >>> LA.norm(a, 3)\n",
        "    5.8480354764257312\n",
        "    >>> LA.norm(a, -3)\n",
        "    nan\n",
        "    \n",
        "    Using the `axis` argument to compute vector norms:\n",
        "    \n",
        "    >>> c = np.array([[ 1, 2, 3],\n",
        "    ...               [-1, 1, 4]])\n",
        "    >>> LA.norm(c, axis=0)\n",
        "    array([ 1.41421356,  2.23606798,  5.        ])\n",
        "    >>> LA.norm(c, axis=1)\n",
        "    array([ 3.74165739,  4.24264069])\n",
        "    >>> LA.norm(c, ord=1, axis=1)\n",
        "    array([6, 6])\n",
        "    \n",
        "    Using the `axis` argument to compute matrix norms:\n",
        "    \n",
        "    >>> m = np.arange(8).reshape(2,2,2)\n",
        "    >>> LA.norm(m, axis=(1,2))\n",
        "    array([  3.74165739,  11.22497216])\n",
        "    >>> LA.norm(m[0, :, :]), LA.norm(m[1, :, :])\n",
        "    (3.7416573867739413, 11.224972160321824)\n",
        "\n"
       ]
      }
     ],
     "prompt_number": 111
    },
    {
     "cell_type": "markdown",
     "metadata": {},
     "source": [
      "Norm: In linear algebra, functional analysis and related areas of mathematics, a norm is a function that assigns a strictly positive length or size to each vector in a vector space, other than the zero vector (which has zero length assigned to it).\n",
      "\n",
      "http://en.wikipedia.org/wiki/Norm_(mathematics)"
     ]
    },
    {
     "cell_type": "code",
     "collapsed": false,
     "input": [
      "# check\n",
      "norm(dot(A, X) - B)"
     ],
     "language": "python",
     "metadata": {},
     "outputs": [
      {
       "metadata": {},
       "output_type": "pyout",
       "prompt_number": 118,
       "text": [
        "3.8857805861880479e-16"
       ]
      }
     ],
     "prompt_number": 118
    },
    {
     "cell_type": "heading",
     "level": 4,
     "metadata": {},
     "source": [
      "Eigenvalues and eigenvectors (http://en.wikipedia.org/wiki/Eigenvalues_and_eigenvectors)"
     ]
    },
    {
     "cell_type": "markdown",
     "metadata": {},
     "source": [
      "An eigenvector or *characteristic vector* of a linear transformation *defines a direction that is invariant under the transformation*. Let the transformation be defined by the square matrix $\\mathrm{A}$, then an invariant direction of $\\mathrm{A}$ is the non-zero vector $\\mathbf{v}$, that has the property that the product $\\mathrm{A}\\mathbf{v}$ is a scalar multiple of $\\mathbf{v}$. This is written as the equation,\n",
      "\n",
      "$$\\mathrm{A} \\mathbf{v} = \\lambda \\mathbf{v},$$\n",
      " \n",
      "where $\\lambda$ is known as the eigenvalue associated with the eigenvector $\\mathbf{v}$.\n",
      "\n",
      "(Because this equation uses post-multiplication of the matrix $\\mathrm{A}$ by the vector $\\mathbf{v}$ it describes a right eigenvector.)\n",
      "\n",
      "The number $\\lambda$ is called the eigenvalue or characteristic value of $\\mathrm{A}$ corresponding to $\\mathbf{v}$.\n",
      "\n",
      "Where the eigenvalue problem for matrix $\\mathrm{A}$:\n",
      "\n",
      "$$ \\mathrm{A} v_n = \\lambda_n v_n $$\n",
      "\n",
      "where $v_n$ is the $n$-th eigenvector and $\\lambda_n$ is the $n$-th eigenvalue.\n",
      "\n",
      "To calculate eigenvalues of a matrix, use the eigvals and for calculating both eigenvalues and eigenvectors, use the function eig:"
     ]
    },
    {
     "cell_type": "code",
     "collapsed": false,
     "input": [
      "evals = eigvals(A)"
     ],
     "language": "python",
     "metadata": {},
     "outputs": [],
     "prompt_number": 119
    },
    {
     "cell_type": "code",
     "collapsed": false,
     "input": [
      "evals"
     ],
     "language": "python",
     "metadata": {},
     "outputs": [
      {
       "metadata": {},
       "output_type": "pyout",
       "prompt_number": 120,
       "text": [
        "array([ 1.53055603+0.j        , -0.09491328+0.19925649j,\n",
        "       -0.09491328-0.19925649j])"
       ]
      }
     ],
     "prompt_number": 120
    },
    {
     "cell_type": "code",
     "collapsed": false,
     "input": [
      "evals, evecs = eig(A)"
     ],
     "language": "python",
     "metadata": {},
     "outputs": [],
     "prompt_number": 121
    },
    {
     "cell_type": "code",
     "collapsed": false,
     "input": [
      "evals"
     ],
     "language": "python",
     "metadata": {},
     "outputs": [
      {
       "metadata": {},
       "output_type": "pyout",
       "prompt_number": 122,
       "text": [
        "array([ 1.53055603+0.j        , -0.09491328+0.19925649j,\n",
        "       -0.09491328-0.19925649j])"
       ]
      }
     ],
     "prompt_number": 122
    },
    {
     "cell_type": "code",
     "collapsed": false,
     "input": [
      "evecs"
     ],
     "language": "python",
     "metadata": {},
     "outputs": [
      {
       "metadata": {},
       "output_type": "pyout",
       "prompt_number": 123,
       "text": [
        "array([[ 0.46960939+0.j        ,  0.11866702-0.29022348j,\n",
        "         0.11866702+0.29022348j],\n",
        "       [ 0.70666345+0.j        ,  0.39702279+0.17417978j,\n",
        "         0.39702279-0.17417978j],\n",
        "       [ 0.52923888+0.j        , -0.84482115+0.j        , -0.84482115-0.j        ]])"
       ]
      }
     ],
     "prompt_number": 123
    },
    {
     "cell_type": "markdown",
     "metadata": {},
     "source": [
      "The eigenvectors corresponding to the $n$th eigenvalue (stored in evals[n]) is the $n$th *column* in evecs, i.e., evecs[:,n]. To verify this, let's try multiplying eigenvectors with the matrix and compare to the product of the eigenvectorand the eigenvalue:"
     ]
    },
    {
     "cell_type": "code",
     "collapsed": false,
     "input": [
      "n = 1\n",
      "\n",
      "norm(dot(A,evecs[:,n])-evals[n]*evecs[:,n])"
     ],
     "language": "python",
     "metadata": {},
     "outputs": [
      {
       "metadata": {},
       "output_type": "pyout",
       "prompt_number": 125,
       "text": [
        "6.068656800441504e-16"
       ]
      }
     ],
     "prompt_number": 125
    },
    {
     "cell_type": "markdown",
     "metadata": {},
     "source": [
      "There are also more specialized eigensolvers, like the eigh for Hermitian matrices."
     ]
    },
    {
     "cell_type": "heading",
     "level": 4,
     "metadata": {},
     "source": [
      "Matrix operations"
     ]
    },
    {
     "cell_type": "code",
     "collapsed": false,
     "input": [
      "# the matrix inverse\n",
      "inv(A)"
     ],
     "language": "python",
     "metadata": {},
     "outputs": [
      {
       "metadata": {},
       "output_type": "pyout",
       "prompt_number": 126,
       "text": [
        "array([[-0.47802207, -0.33673269,  1.45352713],\n",
        "       [ 5.24049524, -2.54049166, -0.385477  ],\n",
        "       [-8.23002938,  6.12709939, -0.22507045]])"
       ]
      }
     ],
     "prompt_number": 126
    },
    {
     "cell_type": "code",
     "collapsed": false,
     "input": [
      "# determinant\n",
      "det(A)"
     ],
     "language": "python",
     "metadata": {},
     "outputs": [
      {
       "metadata": {},
       "output_type": "pyout",
       "prompt_number": 127,
       "text": [
        "0.074555954407346983"
       ]
      }
     ],
     "prompt_number": 127
    },
    {
     "cell_type": "code",
     "collapsed": false,
     "input": [
      "# norms of various orders\n",
      "norm(A,ord=2),norm(A,ord=Inf)"
     ],
     "language": "python",
     "metadata": {},
     "outputs": [
      {
       "metadata": {},
       "output_type": "pyout",
       "prompt_number": 129,
       "text": [
        "(1.5433521351661867, 1.7785369765118455)"
       ]
      }
     ],
     "prompt_number": 129
    },
    {
     "cell_type": "heading",
     "level": 3,
     "metadata": {},
     "source": [
      "Sparse matrices"
     ]
    },
    {
     "cell_type": "markdown",
     "metadata": {},
     "source": [
      "Sparse matrices are often useful in numerical simulations dealing with large systems, if the problem can be described in matrix form where the matrices or vectors mostly contains zeros. Scipy has a good support for sparse matrices, with basic linear algebra operations (such as equation solving, eqigenvalue calculations, etc).\n",
      "\n",
      "There are many possible strategies for strogin sparse matrices in an efficient way. Some of the most common are the so-called coordinate form (COO), list of list (LIL) form, and compressed-sparse column CSC (and row, CSR). Each format has come advantages and disadvantages. Most computational algortihms (equation solving, matrix-matrix multiplication, etc) can be efficiently implemented using CSR or CSC formats, but they are not so intuitive and not so easy to initialize. So often a sparse matrix is initially created in COO or LIL format (where we can efficiently add elements to the sparse matrix data), and then converted to CSC or CSR before used in real calculations.\n",
      "\n",
      "For more information about these sparse formats, see e.g. http://en.wikipedia.org/wiki/Sparse_matrix\n",
      "\n",
      "When we create a sparse matrix we have to choose which format it should be stored in. For example,"
     ]
    },
    {
     "cell_type": "code",
     "collapsed": false,
     "input": [
      "from scipy.sparse import *"
     ],
     "language": "python",
     "metadata": {},
     "outputs": [],
     "prompt_number": 130
    },
    {
     "cell_type": "code",
     "collapsed": false,
     "input": [
      "# dense matrix\n",
      "M = array([[1,0,0,0],[0,3,0,0],[0,1,1,0],[1,0,0,1]]); M"
     ],
     "language": "python",
     "metadata": {},
     "outputs": [
      {
       "metadata": {},
       "output_type": "pyout",
       "prompt_number": 134,
       "text": [
        "array([[1, 0, 0, 0],\n",
        "       [0, 3, 0, 0],\n",
        "       [0, 1, 1, 0],\n",
        "       [1, 0, 0, 1]])"
       ]
      }
     ],
     "prompt_number": 134
    },
    {
     "cell_type": "code",
     "collapsed": false,
     "input": [
      "# convert from dense to sparse\n",
      "A = csr_matrix(M);A"
     ],
     "language": "python",
     "metadata": {},
     "outputs": [
      {
       "metadata": {},
       "output_type": "pyout",
       "prompt_number": 135,
       "text": [
        "<4x4 sparse matrix of type '<type 'numpy.int64'>'\n",
        "\twith 6 stored elements in Compressed Sparse Row format>"
       ]
      }
     ],
     "prompt_number": 135
    },
    {
     "cell_type": "code",
     "collapsed": false,
     "input": [
      "# convert from sparse to dense\n",
      "A.todense()"
     ],
     "language": "python",
     "metadata": {},
     "outputs": [
      {
       "metadata": {},
       "output_type": "pyout",
       "prompt_number": 137,
       "text": [
        "matrix([[1, 0, 0, 0],\n",
        "        [0, 3, 0, 0],\n",
        "        [0, 1, 1, 0],\n",
        "        [1, 0, 0, 1]])"
       ]
      }
     ],
     "prompt_number": 137
    },
    {
     "cell_type": "markdown",
     "metadata": {},
     "source": [
      "Converting between different sparse matrix formats:"
     ]
    },
    {
     "cell_type": "code",
     "collapsed": false,
     "input": [
      "A"
     ],
     "language": "python",
     "metadata": {},
     "outputs": [
      {
       "metadata": {},
       "output_type": "pyout",
       "prompt_number": 138,
       "text": [
        "<4x4 sparse matrix of type '<type 'numpy.int64'>'\n",
        "\twith 6 stored elements in Compressed Sparse Row format>"
       ]
      }
     ],
     "prompt_number": 138
    },
    {
     "cell_type": "code",
     "collapsed": false,
     "input": [
      "A = csr_matrix(A);A"
     ],
     "language": "python",
     "metadata": {},
     "outputs": [
      {
       "metadata": {},
       "output_type": "pyout",
       "prompt_number": 139,
       "text": [
        "<4x4 sparse matrix of type '<type 'numpy.int64'>'\n",
        "\twith 6 stored elements in Compressed Sparse Row format>"
       ]
      }
     ],
     "prompt_number": 139
    },
    {
     "cell_type": "code",
     "collapsed": false,
     "input": [
      "A = csc_matrix(A);A"
     ],
     "language": "python",
     "metadata": {},
     "outputs": [
      {
       "metadata": {},
       "output_type": "pyout",
       "prompt_number": 140,
       "text": [
        "<4x4 sparse matrix of type '<type 'numpy.int64'>'\n",
        "\twith 6 stored elements in Compressed Sparse Column format>"
       ]
      }
     ],
     "prompt_number": 140
    },
    {
     "cell_type": "markdown",
     "metadata": {},
     "source": [
      "We can compute with sparse matrices like dense matrices:"
     ]
    },
    {
     "cell_type": "code",
     "collapsed": false,
     "input": [
      "A.todense()"
     ],
     "language": "python",
     "metadata": {},
     "outputs": [
      {
       "metadata": {},
       "output_type": "pyout",
       "prompt_number": 141,
       "text": [
        "matrix([[1, 0, 0, 0],\n",
        "        [0, 3, 0, 0],\n",
        "        [0, 1, 1, 0],\n",
        "        [1, 0, 0, 1]])"
       ]
      }
     ],
     "prompt_number": 141
    },
    {
     "cell_type": "code",
     "collapsed": false,
     "input": [
      "(A*A).todense()"
     ],
     "language": "python",
     "metadata": {},
     "outputs": [
      {
       "metadata": {},
       "output_type": "pyout",
       "prompt_number": 142,
       "text": [
        "matrix([[1, 0, 0, 0],\n",
        "        [0, 9, 0, 0],\n",
        "        [0, 4, 1, 0],\n",
        "        [2, 0, 0, 1]])"
       ]
      }
     ],
     "prompt_number": 142
    },
    {
     "cell_type": "code",
     "collapsed": false,
     "input": [
      "dot(A, A).todense()"
     ],
     "language": "python",
     "metadata": {},
     "outputs": [
      {
       "ename": "ValueError",
       "evalue": "Cannot find a common data type.",
       "output_type": "pyerr",
       "traceback": [
        "\u001b[0;31m---------------------------------------------------------------------------\u001b[0m\n\u001b[0;31mValueError\u001b[0m                                Traceback (most recent call last)",
        "\u001b[0;32m<ipython-input-150-bc2bcac86379>\u001b[0m in \u001b[0;36m<module>\u001b[0;34m()\u001b[0m\n\u001b[0;32m----> 1\u001b[0;31m \u001b[0mdot\u001b[0m\u001b[0;34m(\u001b[0m\u001b[0mA\u001b[0m\u001b[0;34m,\u001b[0m \u001b[0mA\u001b[0m\u001b[0;34m)\u001b[0m\u001b[0;34m.\u001b[0m\u001b[0mtodense\u001b[0m\u001b[0;34m(\u001b[0m\u001b[0;34m)\u001b[0m\u001b[0;34m\u001b[0m\u001b[0m\n\u001b[0m",
        "\u001b[0;31mValueError\u001b[0m: Cannot find a common data type."
       ]
      }
     ],
     "prompt_number": 150
    },
    {
     "cell_type": "code",
     "collapsed": false,
     "input": [
      "v = array([1,2,3,4])[:,newaxis];v"
     ],
     "language": "python",
     "metadata": {},
     "outputs": [
      {
       "metadata": {},
       "output_type": "pyout",
       "prompt_number": 151,
       "text": [
        "array([[1],\n",
        "       [2],\n",
        "       [3],\n",
        "       [4]])"
       ]
      }
     ],
     "prompt_number": 151
    },
    {
     "cell_type": "code",
     "collapsed": false,
     "input": [
      "# sparse matrix - dense vector multiplication\n",
      "A*v"
     ],
     "language": "python",
     "metadata": {},
     "outputs": [
      {
       "metadata": {},
       "output_type": "pyout",
       "prompt_number": 152,
       "text": [
        "array([[1],\n",
        "       [6],\n",
        "       [5],\n",
        "       [5]])"
       ]
      }
     ],
     "prompt_number": 152
    },
    {
     "cell_type": "code",
     "collapsed": false,
     "input": [
      "A.todense() * v"
     ],
     "language": "python",
     "metadata": {},
     "outputs": [
      {
       "metadata": {},
       "output_type": "pyout",
       "prompt_number": 153,
       "text": [
        "matrix([[1],\n",
        "        [6],\n",
        "        [5],\n",
        "        [5]])"
       ]
      }
     ],
     "prompt_number": 153
    },
    {
     "cell_type": "heading",
     "level": 3,
     "metadata": {},
     "source": [
      "Optimization"
     ]
    },
    {
     "cell_type": "markdown",
     "metadata": {},
     "source": [
      "Optimization (finding minima or maxima of a function) is a large field in mathematics, and optimization of complicated functions or in many variables can be rather involved. Here we will only look at a few very simple cases. For a more detailed introduction to optimization with SciPy see: http://scipy-lectures.github.com/advanced/mathematical_optimization/index.html\n",
      "\n",
      "To use the optimization modeule in Scipy first include the optimize module:"
     ]
    },
    {
     "cell_type": "code",
     "collapsed": false,
     "input": [
      "from scipy import optimize"
     ],
     "language": "python",
     "metadata": {},
     "outputs": [],
     "prompt_number": 154
    },
    {
     "cell_type": "heading",
     "level": 4,
     "metadata": {},
     "source": [
      "Finding a minima"
     ]
    },
    {
     "cell_type": "markdown",
     "metadata": {},
     "source": [
      "Let's first look at how to find the minima of a simple function of a single variable:"
     ]
    },
    {
     "cell_type": "code",
     "collapsed": false,
     "input": [
      "def f(x):\n",
      "    return 4*x**3 + (x-2)**2 + x**4"
     ],
     "language": "python",
     "metadata": {},
     "outputs": [],
     "prompt_number": 155
    },
    {
     "cell_type": "code",
     "collapsed": false,
     "input": [
      "fig, ax = subplots()\n",
      "x = linspace(-5,3,100)\n",
      "ax.plot(x,f(x));"
     ],
     "language": "python",
     "metadata": {},
     "outputs": [
      {
       "metadata": {},
       "output_type": "display_data",
       "png": "[encoded data removed]",
       "text": [
        "<matplotlib.figure.Figure at 0x1084395d0>"
       ]
      }
     ],
     "prompt_number": 156
    },
    {
     "cell_type": "markdown",
     "metadata": {},
     "source": [
      "We can use the fmin_bfgs function to find the minima of a function:"
     ]
    },
    {
     "cell_type": "code",
     "collapsed": false,
     "input": [
      "x_min = optimize.fmin_bfgs(f,-2)\n",
      "x_min"
     ],
     "language": "python",
     "metadata": {},
     "outputs": [
      {
       "output_type": "stream",
       "stream": "stdout",
       "text": [
        "Optimization terminated successfully.\n",
        "         Current function value: -3.506641\n",
        "         Iterations: 6\n",
        "         Function evaluations: 30\n",
        "         Gradient evaluations: 10\n"
       ]
      },
      {
       "metadata": {},
       "output_type": "pyout",
       "prompt_number": 157,
       "text": [
        "array([-2.67298164])"
       ]
      }
     ],
     "prompt_number": 157
    },
    {
     "cell_type": "code",
     "collapsed": false,
     "input": [
      "optimize.fmin_bfgs(f, 0.5)"
     ],
     "language": "python",
     "metadata": {},
     "outputs": [
      {
       "output_type": "stream",
       "stream": "stdout",
       "text": [
        "Optimization terminated successfully.\n",
        "         Current function value: 2.804988\n",
        "         Iterations: 3\n",
        "         Function evaluations: 15\n",
        "         Gradient evaluations: 5\n"
       ]
      },
      {
       "metadata": {},
       "output_type": "pyout",
       "prompt_number": 158,
       "text": [
        "array([ 0.46961745])"
       ]
      }
     ],
     "prompt_number": 158
    },
    {
     "cell_type": "markdown",
     "metadata": {},
     "source": [
      "We can also use the breant of fminbound function. They have a bit different syntax and use different algorithms."
     ]
    },
    {
     "cell_type": "code",
     "collapsed": false,
     "input": [
      "optimize.brent(f)"
     ],
     "language": "python",
     "metadata": {},
     "outputs": [
      {
       "metadata": {},
       "output_type": "pyout",
       "prompt_number": 159,
       "text": [
        "0.46961743402759754"
       ]
      }
     ],
     "prompt_number": 159
    },
    {
     "cell_type": "code",
     "collapsed": false,
     "input": [
      "optimize.fminbound(f,-4,2)"
     ],
     "language": "python",
     "metadata": {},
     "outputs": [
      {
       "metadata": {},
       "output_type": "pyout",
       "prompt_number": 160,
       "text": [
        "-2.6729822917513886"
       ]
      }
     ],
     "prompt_number": 160
    },
    {
     "cell_type": "heading",
     "level": 3,
     "metadata": {},
     "source": [
      "Finding a solution to a function"
     ]
    },
    {
     "cell_type": "markdown",
     "metadata": {},
     "source": [
      "To find the root for a function of the form $ f(x) = 0$ we can use the fsolve function. It requires an initial guess:"
     ]
    },
    {
     "cell_type": "code",
     "collapsed": false,
     "input": [
      "omega_c = 3.0\n",
      "def f(omega):\n",
      "    # a transcendental equation: resonance frequencies of a low-Q SQUID terminated microwabe resonator\n",
      "    return tan(2*pi*omega) - omega_c/omega"
     ],
     "language": "python",
     "metadata": {},
     "outputs": [],
     "prompt_number": 161
    },
    {
     "cell_type": "code",
     "collapsed": false,
     "input": [
      "fig, ax = subplots(figsize=(10,4))\n",
      "x = linspace(0,3,1000)\n",
      "y = f(x)\n",
      "mask = where(abs(y) > 50)\n",
      "x[mask] = y[mask]=NaN # get rid of vertical line when the function flips sign\n",
      "ax.plot(x,y)\n",
      "ax.plot([0,3],[0,0],'k')\n",
      "ax.set_ylim(-5,5);"
     ],
     "language": "python",
     "metadata": {},
     "outputs": [
      {
       "output_type": "stream",
       "stream": "stderr",
       "text": [
        "-c:4: RuntimeWarning: divide by zero encountered in divide\n"
       ]
      },
      {
       "metadata": {},
       "output_type": "display_data",
       "png": "[encoded data removed]",
       "text": [
        "<matplotlib.figure.Figure at 0x108501110>"
       ]
      }
     ],
     "prompt_number": 162
    },
    {
     "cell_type": "code",
     "collapsed": false,
     "input": [
      "optimize.fsolve(f,0.1)"
     ],
     "language": "python",
     "metadata": {},
     "outputs": [
      {
       "metadata": {},
       "output_type": "pyout",
       "prompt_number": 163,
       "text": [
        "array([ 0.23743014])"
       ]
      }
     ],
     "prompt_number": 163
    },
    {
     "cell_type": "code",
     "collapsed": false,
     "input": [
      "optimize.fsolve(f,0.6)"
     ],
     "language": "python",
     "metadata": {},
     "outputs": [
      {
       "metadata": {},
       "output_type": "pyout",
       "prompt_number": 164,
       "text": [
        "array([ 0.71286972])"
       ]
      }
     ],
     "prompt_number": 164
    },
    {
     "cell_type": "code",
     "collapsed": false,
     "input": [
      "optimize.fsolve(f,1.1)"
     ],
     "language": "python",
     "metadata": {},
     "outputs": [
      {
       "metadata": {},
       "output_type": "pyout",
       "prompt_number": 165,
       "text": [
        "array([ 1.18990285])"
       ]
      }
     ],
     "prompt_number": 165
    },
    {
     "cell_type": "heading",
     "level": 3,
     "metadata": {},
     "source": [
      "Interpolation"
     ]
    },
    {
     "cell_type": "markdown",
     "metadata": {},
     "source": [
      "Interpolation is simple and convenient in scipy: The interpld function, when given arrays describing X and Y data, returns and object that behaves like a function that can be called for an arbitrary value of x (in the range covered by X), and it returns the corresponding interpolated y value:"
     ]
    },
    {
     "cell_type": "code",
     "collapsed": false,
     "input": [
      "from scipy.interpolate import *"
     ],
     "language": "python",
     "metadata": {},
     "outputs": [],
     "prompt_number": 166
    },
    {
     "cell_type": "code",
     "collapsed": false,
     "input": [
      "def f(x):\n",
      "    return sin(x)"
     ],
     "language": "python",
     "metadata": {},
     "outputs": [],
     "prompt_number": 167
    },
    {
     "cell_type": "code",
     "collapsed": false,
     "input": [
      "n = arange(0,10)\n",
      "x = linspace(0,9,100)\n",
      "\n",
      "y_meas = f(n) + 0.1 * randn(len(n)) # simulate measurement with noise\n",
      "y_real = f(x)\n",
      "\n",
      "linear_interpolation = interp1d(n, y_meas)\n",
      "y_interp1 = linear_interpolation(x)\n",
      "\n",
      "cubic_interpolation = interp1d(n,y_meas,kind = 'cubic')\n",
      "y_interp2 = cubic_interpolation(x)"
     ],
     "language": "python",
     "metadata": {},
     "outputs": [],
     "prompt_number": 173
    },
    {
     "cell_type": "code",
     "collapsed": false,
     "input": [
      "fig, ax = subplots(figsize=(10,4))\n",
      "ax.plot(n, y_meas, 'bs', label='noisy data')\n",
      "ax.plot(x, y_real, 'k', lw=2, label='true function')\n",
      "ax.plot(x, y_interp1, 'r', label='linear interp')\n",
      "ax.plot(x, y_interp2, 'g', label='cubic interp')\n",
      "ax.legend(loc=3);"
     ],
     "language": "python",
     "metadata": {},
     "outputs": [
      {
       "metadata": {},
       "output_type": "display_data",
       "png": "[encoded data removed]",
       "text": [
        "<matplotlib.figure.Figure at 0x108545390>"
       ]
      }
     ],
     "prompt_number": 174
    },
    {
     "cell_type": "heading",
     "level": 3,
     "metadata": {},
     "source": [
      "Statistics"
     ]
    },
    {
     "cell_type": "markdown",
     "metadata": {},
     "source": [
      "The scipy.stats module contains a large number of statistical distributions, statistical functions and test. For a complete documentation of its features, see http://docs.scipy.org/doc/scipy/reference/stats.html.\n",
      "\n",
      "There is also a very powerful python package for statistical modelling called statsmodels. See http://statsmodels.sourceforge.net for more details."
     ]
    },
    {
     "cell_type": "code",
     "collapsed": false,
     "input": [
      "from scipy import stats"
     ],
     "language": "python",
     "metadata": {},
     "outputs": [],
     "prompt_number": 175
    },
    {
     "cell_type": "code",
     "collapsed": false,
     "input": [
      "# create a (discrete) random variable with poissionian distribution\n",
      "\n",
      "X = stats.poisson(3.5) # photon distribution for a coherent state with n=3.5 photons"
     ],
     "language": "python",
     "metadata": {},
     "outputs": [],
     "prompt_number": 176
    },
    {
     "cell_type": "code",
     "collapsed": false,
     "input": [
      "n = arange(0,15)\n",
      "\n",
      "fig, axes = subplots(3,1,sharex=True)\n",
      "\n",
      "# plot the probability mass function (PMF)\n",
      "axes[0].step(n,X.pmf(n))\n",
      "\n",
      "# plot the cummulative distribution function (CDF)\n",
      "axes[1].step(n, X.cdf(n))\n",
      "\n",
      "# plot histogram of 1000random realizations of the stochastic variable X\n",
      "axes[2].hist(X.rvs(size = 1000))"
     ],
     "language": "python",
     "metadata": {},
     "outputs": [
      {
       "metadata": {},
       "output_type": "pyout",
       "prompt_number": 178,
       "text": [
        "(array([ 112.,  190.,  224.,  197.,  125.,   82.,   45.,   12.,   10.,    3.]),\n",
        " array([  0. ,   1.1,   2.2,   3.3,   4.4,   5.5,   6.6,   7.7,   8.8,\n",
        "          9.9,  11. ]),\n",
        " <a list of 10 Patch objects>)"
       ]
      },
      {
       "metadata": {},
       "output_type": "display_data",
       "png": "[encoded data removed]",
       "text": [
        "<matplotlib.figure.Figure at 0x108fcc390>"
       ]
      }
     ],
     "prompt_number": 178
    },
    {
     "cell_type": "code",
     "collapsed": false,
     "input": [
      "# create a (continuous) random variable with normal distribution\n",
      "Y = stats.norm()"
     ],
     "language": "python",
     "metadata": {},
     "outputs": [],
     "prompt_number": 179
    },
    {
     "cell_type": "code",
     "collapsed": false,
     "input": [
      "x = linspace(-5,5,100)\n",
      "\n",
      "fig, axes = subplots(3,1,sharex=True)\n",
      "\n",
      "# plot the probability distribution function (PDF)\n",
      "axes[0].plot(x,Y.pdf(x));\n",
      "\n",
      "# plot the cummulative distribution functino (CDF)\n",
      "axes[1].plot(x,Y.cdf(x));\n",
      "\n",
      "# plot histogram of 1000 random realizations of the stochastic variable Y\n",
      "axes[2].hist(Y.rvs(size=1000),bins = 50);"
     ],
     "language": "python",
     "metadata": {},
     "outputs": [
      {
       "metadata": {},
       "output_type": "display_data",
       "png": "[encoded data removed]",
       "text": [
        "<matplotlib.figure.Figure at 0x109316950>"
       ]
      }
     ],
     "prompt_number": 187
    },
    {
     "cell_type": "heading",
     "level": 4,
     "metadata": {},
     "source": [
      "Statistics:"
     ]
    },
    {
     "cell_type": "code",
     "collapsed": false,
     "input": [
      "X.mean(), X.std(),X.var() # poission distribution"
     ],
     "language": "python",
     "metadata": {},
     "outputs": [
      {
       "metadata": {},
       "output_type": "pyout",
       "prompt_number": 188,
       "text": [
        "(3.5, 1.8708286933869707, 3.5)"
       ]
      }
     ],
     "prompt_number": 188
    },
    {
     "cell_type": "code",
     "collapsed": false,
     "input": [
      "Y.mean(),Y.std(),Y.var() # normal distribution"
     ],
     "language": "python",
     "metadata": {},
     "outputs": [
      {
       "metadata": {},
       "output_type": "pyout",
       "prompt_number": 189,
       "text": [
        "(0.0, 1.0, 1.0)"
       ]
      }
     ],
     "prompt_number": 189
    },
    {
     "cell_type": "heading",
     "level": 3,
     "metadata": {},
     "source": [
      "Statistical tests"
     ]
    },
    {
     "cell_type": "markdown",
     "metadata": {},
     "source": [
      "Test if two sets of (independent) random data comes from the same distribution:"
     ]
    },
    {
     "cell_type": "code",
     "collapsed": false,
     "input": [
      "t_statistic, p_value = stats.ttest_ind(X.rvs(size=1000), X.rvs(size=1000))\n",
      "\n",
      "print \"t-statistic =\", t_statistic\n",
      "print \"p-value = \", p_value"
     ],
     "language": "python",
     "metadata": {},
     "outputs": [
      {
       "output_type": "stream",
       "stream": "stdout",
       "text": [
        "t-statistic = -0.0726170002886\n",
        "p-value =  0.942118166493\n"
       ]
      }
     ],
     "prompt_number": 194
    },
    {
     "cell_type": "markdown",
     "metadata": {},
     "source": [
      "Since the p value is very large we cannot reject the hypothesis that the two sets of random data have *different* means.\n",
      "\n",
      "To test if the mean of a single sample of data has mean 0.1 (the true mean is 0.0):"
     ]
    },
    {
     "cell_type": "code",
     "collapsed": false,
     "input": [
      "stats.ttest_1samp(Y.rvs(size=1000), 0.1)"
     ],
     "language": "python",
     "metadata": {},
     "outputs": [
      {
       "metadata": {},
       "output_type": "pyout",
       "prompt_number": 198,
       "text": [
        "(-3.132121678131718, 0.0017859743269594704)"
       ]
      }
     ],
     "prompt_number": 198
    },
    {
     "cell_type": "markdown",
     "metadata": {},
     "source": [
      "Low p-value means that we can reject the hypothesis that the mean of Y is 0.1."
     ]
    },
    {
     "cell_type": "code",
     "collapsed": false,
     "input": [
      "Y.mean()"
     ],
     "language": "python",
     "metadata": {},
     "outputs": [
      {
       "metadata": {},
       "output_type": "pyout",
       "prompt_number": 199,
       "text": [
        "0.0"
       ]
      }
     ],
     "prompt_number": 199
    },
    {
     "cell_type": "code",
     "collapsed": false,
     "input": [
      "stats.ttest_1samp(Y.rvs(size=1000), Y.mean())"
     ],
     "language": "python",
     "metadata": {},
     "outputs": [
      {
       "metadata": {},
       "output_type": "pyout",
       "prompt_number": 200,
       "text": [
        "(0.33487597792233975, 0.73778894256808469)"
       ]
      }
     ],
     "prompt_number": 200
    },
    {
     "cell_type": "heading",
     "level": 3,
     "metadata": {},
     "source": [
      "Further reading"
     ]
    },
    {
     "cell_type": "markdown",
     "metadata": {},
     "source": [
      "- http://www.scipy.org - The official web page for the SciPy project.\n",
      "- http://docs.scipy.org/doc/scipy/reference/tutorial/index.html - A tutorial on how to get started using SciPy.\n",
      "- https://github.com/scipy/scipy/ - The SciPy source code."
     ]
    },
    {
     "cell_type": "code",
     "collapsed": false,
     "input": [],
     "language": "python",
     "metadata": {},
     "outputs": []
    }
   ],
   "metadata": {}
  }
 ]
}