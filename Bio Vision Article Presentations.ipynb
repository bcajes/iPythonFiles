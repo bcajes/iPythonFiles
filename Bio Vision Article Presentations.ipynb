{
 "cells": [
  {
   "cell_type": "markdown",
   "metadata": {},
   "source": [
    "- ** Lamiya - *Visual Temporal Processing in Dyslexia and the Magnocellular Deficit Theory: The Need for Speed?* ** [paper](http://psycnet.apa.org/journals/xhp/37/6/1957/)\n",
    "\n",
    "    - relation to general myelination loss (MS)?\n",
    "    - relationship between dyslexia and discalcia\n",
    "    - do blind/deaf people exhibit dyslexia?"
   ]
  },
  {
   "cell_type": "markdown",
   "metadata": {},
   "source": [
    "- ** Dustin - Surface Area Binocular Rivlary **"
   ]
  },
  {
   "cell_type": "markdown",
   "metadata": {},
   "source": [
    "- Black & Logothesis 2002\n",
    "    - neural activity during BR must fluctuate during some stages\n",
    "    - bottom up factors such as contrast\n",
    "    - top down factros such as selective attention\n",
    "- would you still have this radial traveling wave during a solid (non-anulus shape)?\n",
    "- lee et al 2004, 2007 - **supports hierarchical processin stage model of BR**\n",
    "- interesting in thinking about the *percept* of a large scale visual moving stimulus that is also rivalrous wrt phyiological organizational structure\n",
    "- **Q: will anatomical characteristics of early visual regions explain interindividual differences in the subjective experience of the traveling wave?**\n"
   ]
  },
  {
   "cell_type": "code",
   "execution_count": null,
   "metadata": {
    "collapsed": true
   },
   "outputs": [],
   "source": []
  }
 ],
 "metadata": {
  "kernelspec": {
   "display_name": "Python 2",
   "language": "python",
   "name": "python2"
  },
  "language_info": {
   "codemirror_mode": {
    "name": "ipython",
    "version": 2
   },
   "file_extension": ".py",
   "mimetype": "text/x-python",
   "name": "python",
   "nbconvert_exporter": "python",
   "pygments_lexer": "ipython2",
   "version": "2.7.9"
  }
 },
 "nbformat": 4,
 "nbformat_minor": 0
}
