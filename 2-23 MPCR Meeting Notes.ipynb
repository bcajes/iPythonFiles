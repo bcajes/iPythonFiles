{
 "metadata": {
  "name": "",
  "signature": "sha256:10cac2024f08ac68c1d43d16d0c2305e40c3f59753560d5536cdc31a6c012d56"
 },
 "nbformat": 3,
 "nbformat_minor": 0,
 "worksheets": []
}