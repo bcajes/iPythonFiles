{
 "metadata": {
  "name": "",
  "signature": "sha256:8d5c4384f115e5c447617cd4c1311892859cf9f5f2b8ddcf8f7bf6b5d7f177d9"
 },
 "nbformat": 3,
 "nbformat_minor": 0,
 "worksheets": [
  {
   "cells": [
    {
     "cell_type": "heading",
     "level": 1,
     "metadata": {},
     "source": [
      "Machine Perception and Cognitive Robotics Laboratory"
     ]
    },
    {
     "cell_type": "markdown",
     "metadata": {},
     "source": [
      "Slides found at: https://docs.google.com/presentation/d/1lm0js_HbE_wC5dC-dyZ3muoyo3tIfiuStXqdzONLIO0/edit?pli=1#slide=id.g6d4d18c9f_0148"
     ]
    },
    {
     "cell_type": "markdown",
     "metadata": {},
     "source": [
      "- **Programming:**\n",
      "    1. Matlab\n",
      "    2. Python/iPython notebook\n",
      "    3. CPU\n",
      "    4. GPU - graphics processing unit (http://www.nvidia.com/object/what-is-gpu-computing.html)\n",
      "    5. FPGA - field programmable gate array (http://en.wikipedia.org/wiki/Field-programmable_gate_array)"
     ]
    },
    {
     "cell_type": "markdown",
     "metadata": {},
     "source": [
      "- **Data Visualization:**\n",
      "    - [Bokeh plots](http://bokeh.pydata.org/en/latest/)\n",
      "    - [iTorch Demo](http://nbviewer.ipython.org/github/facebook/iTorch/blob/master/iTorch_Demo.ipynb)"
     ]
    },
    {
     "cell_type": "markdown",
     "metadata": {},
     "source": [
      "- **GitHub**\n",
      "    - https://github.com\n",
      "    - [GitHub Developer Pack](https://education.github.com/pack)\n",
      "    - [Will's GitHub](https://github.com/williamedwardhahn/Research)\n",
      "\n",
      "- **Kaggle**\n",
      "    - www.kaggle.com\n",
      "\n",
      "- **Ubuntu & Virtual Machines**\n",
      "    - www.ubuntu.com\n",
      "    - www.virtualbox.org"
     ]
    },
    {
     "cell_type": "markdown",
     "metadata": {},
     "source": [
      "- ** ROVER **\n",
      "    - RoverPylot - Pilot the Brookstone Rover 2.0 from Python\n",
      "    - http://home.wlu.edu/~levys/software/roverpylot/\n",
      "    - [MPCR Rover Code](https://drive.google.com/file/d/0Bx-yZOMpSMAUdm5pOThHeklwODQ/view)"
     ]
    },
    {
     "cell_type": "markdown",
     "metadata": {},
     "source": [
      "- [**Alan Kay**](http://en.wikipedia.org/wiki/Alan_Kay)\n",
      "    - [Doing with Images Makes Symbols Part I (1987)](https://archive.org/details/AlanKeyD1987)\n",
      "    - [Interview with Alan Kay](https://www.youtube.com/watch?v=TY-hBgYLJqc)\n",
      "    - [The computer revolution hasn't happened yet](https://www.youtube.com/watch?v=oKg1hTOQXoY)\n",
      "    - [2012 SCIx Keynote Presentation](https://www.youtube.com/watch?v=BbwOPzxuJ0s)\n",
      "    - [Normal Considered Harmful](https://www.youtube.com/watch?v=FvmTSpJU-Xc)\n",
      "    - [Is it really \"Complex\"? Or did we just make it \"Complicated\"?](https://www.youtube.com/watch?v=Ud8WRAdihPg)\n",
      "\n",
      "- [Christopher M. Bishop](http://research.microsoft.com/en-us/um/people/cmbishop/)\n",
      "    - [Pattern Recognition and Machine Learning](http://www.rmki.kfki.hu/~banmi/elte/Bishop%20-%20Pattern%20Recognition%20and%20Machine%20Learning.pdf)\n",
      "    - [Google Scholar](https://scholar.google.com/citations?user=gsr-K3ADUvAC&hl=en&oi=ao)\n",
      "    - [The Future of Computers](https://www.youtube.com/watch?v=Iqg90Cq5Xfc)"
     ]
    },
    {
     "cell_type": "markdown",
     "metadata": {},
     "source": [
      "- **Project Timelines**\n",
      "    1. RGB Braitenberg Vehicles\n",
      "    2. SALVINN - Simulated Autonomous Land Vehicle in a Neural Network - March 2015 (screen scraping, computers navigating through a video game)\n",
      "    3. DALVINN - Distributed Autonomous Land Vehicle in a Neural Network\n",
      "- **Cognitive Robotics**\n",
      "    - Andrew Ng, [The Future of Robotics and Artificial Intelligence](https://www.youtube.com/watch?v=AY4ajbu_G3k)\n",
      "        - [Google Scholar](https://scholar.google.com/scholar?q=AY+Ng&btnG=&hl=en&as_sdt=0%2C10)\n",
      "        - [Stanford Machine Learning Lectures](https://www.youtube.com/playlist?list=PLJ_CMbwA6bT-n1W0mgOlYwccZ-j6gBXqE)\n",
      "        - [Neural Networks Lectures](https://www.youtube.com/playlist?list=PLb5_yhcKYi-XBpsKR9GKl6PyvrcNa-Od5)\n",
      "        - [Youtube](https://www.youtube.com/results?search_query=andrew+ng)\n",
      "    - [Robotics at the Tipping Point](https://www.youtube.com/watch?v=BRC3iDLQgWU#t=852)\n",
      "        - https://www.cs.cmu.edu/scs25/\n",
      "    - NAO Robot\n",
      "        - https://www.aldebaran.com/en/humanoid-robot/nao-robot\n",
      "        - https://www.youtube.com/results?search_query=NAO+robot\n",
      "        - [NAO - A Robot Interacts Autonomously with Children](https://www.youtube.com/watch?v=PgHvbpWeAf4)\n",
      "- **Machine Perception**\n",
      "    - Jeremy Howard, CEO of [Enlitic](http://www.enlitic.com)\n",
      "        - [The wonderful and terrifying implications of computers that can learn](https://www.youtube.com/watch?v=xx310zM3tLs)\n",
      "    - [Guillermo Shapiro](http://sapirolab.pratt.duke.edu)\n",
      "        - Course, [Digital Image Processing](https://www.youtube.com/playlist?list=PLZ9qNFMHZ-A79y1StvUUqgyL-O0fZh2rs)\n",
      "        - [Image and video processing From Mars to Hollywood](https://www.youtube.com/playlist?list=PLqWGPVnQ0ZiJ3igj-rz53j1PfTnp-R7SI)\n",
      "        - [Google Scholar](https://scholar.google.com/citations?user=ISRNX3gAAAAJ&hl=en&oi=ao)\n",
      "        - [Fundamentals of Digital Image and Video Processing](https://www.youtube.com/playlist?list=PLqWGPVnQ0ZiIODVYI4BHrTuTJJxrHqp3G)\n",
      "    - [Deep Learning: Intelligence from Big Data](https://www.youtube.com/watch?v=czLI3oLDe8M)\n",
      "        - Ilya Sutskever [Google Scholar](https://scholar.google.com/citations?user=x04W_mMAAAAJ&hl=en&oi=ao)  [Homepage](http://www.cs.utoronto.ca/~ilya/)  [NN Blog](https://theneural.wordpress.com)\n",
      "        - Adam Berenzweig, Co-founder and CTO, [Clarifai](http://www.clarifai.com)\n",
      "        - Naveen Rao, Co-founder and CEO, [Nervana Systems](http://www.nervanasys.com)\n",
      "        - Elliot Turner, Founder and CEO, [AlchemyAPI](http://www.alchemyapi.com)"
     ]
    },
    {
     "cell_type": "markdown",
     "metadata": {},
     "source": [
      "- **Analog Computing**\n",
      "    - [Wikipedia](http://en.wikipedia.org/wiki/Analog_computer)\n",
      "    - [Will Analog Computing and Neural Nets Power Innovation after Moore's Law?](https://www.youtube.com/watch?v=dkIuIIp6bl0)\n",
      "- **NPU** - unknown link and name\n",
      "- **Cortical Spiking Models**\n",
      "    - [Eugene M. Izhikevich](http://www.izhikevich.org/publications/dsn.pdf)[Google Scholar](https://scholar.google.com/citations?user=1JeBX-IAAAAJ&hl=en&oi=ao)\n",
      "    - [Dynamical Systems in Neuroscience: The Geometry of Excitability and Bursting](http://www.izhikevich.org/publications/dsn.pdf)\n",
      "    - [Which Model to Use for Cortical Spiking?](http://www.izhikevich.org/publications/whichmod.pdf)\n",
      "    - [The Brain Corporation](http://www.braincorporation.com)\n",
      "- **Brain Inspired Computing**\n",
      "    - [Good Robot](https://www.qualcomm.com/news/onq/2013/10/10/introducing-qualcomm-zeroth-processors-brain-inspired-computing)\n",
      "- ** Human Activity Recognition From RGBD**\n",
      "    - http://pr.cs.cornell.edu/humanactivities/\n",
      "- ** Abnormal Event Detection**\n",
      "- ** Airborne Camera Platform**\n",
      "- ** Formal Theory of Fun**\n",
      "    - J\u00fcrgen Schmidhuber [Wiki](http://en.wikipedia.org/wiki/J\u00fcrgen_Schmidhuber)[Home](http://people.idsia.ch/~juergen/)[Google Scholar](https://scholar.google.com/citations?user=gLnCTgIAAAAJ&hl=en&oi=ao)\n",
      "    1. http://videolectures.net/ecmlpkdd2010_schmidhuber_ftf/\n",
      "    2. [Universal AI and a Formal Theory of Fun](https://www.youtube.com/watch?v=fnbZzcruGu0)\n",
      "    3. [Formal Theory of Creativity, Fun, and Intrinsic Motivation (1990-2010)](http://www.ece.uvic.ca/~bctill/papers/ememcog/Schmidhuber_2010.pdf)"
     ]
    },
    {
     "cell_type": "markdown",
     "metadata": {},
     "source": [
      "- **Evolving Artificial Neural Network**\n",
      "    - [Neuroevolution](http://en.wikipedia.org/wiki/Neuroevolution)\n",
      "    - [A Hypercube-Based Indirect Encoding for Evolving Large-Scale Neural Networks](http://axon.cs.byu.edu/Dan/778/papers/NeuroEvolution/stanley3**.pdf)\n",
      "        - [NEAT - Neuroevolution of Augmenting Topologies](http://en.wikipedia.org/wiki/Neuroevolution_of_augmenting_topologies)\n",
      "        - Kenneth Stanley [Google Scholar](https://scholar.google.com/citations?user=6Q6oO1MAAAAJ&hl=en&oi=sra) [Home Page](http://www.cs.ucf.edu/~kstanley/)\n",
      "            - Thesis: [Efficient Evolution of Neural Networks through Complexification](http://nn.cs.utexas.edu/downloads/papers/stanley.phd04.pdf)\n",
      "            - [The Case for Evolution in Engineering Brains](https://www.youtube.com/watch?v=AbRrZ4IAVuY)\n",
      "        - David D'Ambrosio [Google Scholar](https://scholar.google.com/citations?user=FJO1bnsAAAAJ&hl=en)\n",
      "        - Jason Gauci [Google Scholar](https://scholar.google.com/citations?user=1R-Us28AAAAJ&hl=en)\n",
      "        - Risto Miikkulainen [Google Scholar](https://scholar.google.com/citations?user=2SmbjHAAAAAJ&hl=en)  [Home Page](http://www.cs.utexas.edu/users/risto)  [Lab: Neural Networks Research Group](http://nn.cs.utexas.edu)\n",
      "            - **[A Taxonomy for Artificial Embryogeny](http://citeseerx.ist.psu.edu/viewdoc/download?doi=10.1.1.13.3102&rep=rep1&type=pdf)**\n",
      "        - LAB: [Evolutionary Complexity Research Group](http://eplex.cs.ucf.edu)\n",
      "    - [Real-Time Neuroevolution in the NERO Video Game](http://citeseerx.ist.psu.edu/viewdoc/download?doi=10.1.1.93.196&rep=rep1&type=pdf)\n",
      "- ** Synthetic Cognition **\n",
      "    - [Petavision](http://synthetic-cognition.lanl.gov/petavision.php)"
     ]
    },
    {
     "cell_type": "code",
     "collapsed": false,
     "input": [],
     "language": "python",
     "metadata": {},
     "outputs": []
    }
   ],
   "metadata": {}
  }
 ]
}